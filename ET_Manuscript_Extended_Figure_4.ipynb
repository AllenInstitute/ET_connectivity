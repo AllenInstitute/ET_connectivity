{
 "cells": [
  {
   "cell_type": "code",
   "execution_count": 1,
   "id": "ea3c93b8",
   "metadata": {},
   "outputs": [],
   "source": [
    "import pandas as pd\n",
    "import numpy as np\n",
    "import pcg_skel\n",
    "import tqdm\n",
    "from meshparty import meshwork\n",
    "from caveclient import CAVEclient\n",
    "import datetime\n",
    "import os\n",
    "\n",
    "client = CAVEclient('minnie65_phase3_v1')"
   ]
  },
  {
   "cell_type": "code",
   "execution_count": 2,
   "id": "ca3cf73d",
   "metadata": {},
   "outputs": [],
   "source": [
    "now = client.materialize.get_timestamp()"
   ]
  },
  {
   "cell_type": "code",
   "execution_count": 3,
   "id": "235dcc0d",
   "metadata": {},
   "outputs": [],
   "source": [
    "skeldir = 'skeletons'"
   ]
  },
  {
   "cell_type": "code",
   "execution_count": 4,
   "id": "b3c2ad7b",
   "metadata": {},
   "outputs": [],
   "source": [
    "pd.options.display.max_rows = None\n",
    "pd.options.display.max_columns = None"
   ]
  },
  {
   "cell_type": "markdown",
   "id": "f93b510b",
   "metadata": {},
   "source": [
    "#### EXTENDED FIGURE 4"
   ]
  },
  {
   "cell_type": "markdown",
   "id": "1227ce5e",
   "metadata": {},
   "source": [
    "# Plot for Basket Cells (proximal targeting cells)"
   ]
  },
  {
   "cell_type": "code",
   "execution_count": 5,
   "id": "f1b9d209",
   "metadata": {},
   "outputs": [],
   "source": [
    "# Get synapses formed by the axons of comprehensively extended ET neurons\n",
    "ET_synapse_table = pd.read_feather(\"ET_extended_synapse_table.feather\")\n",
    "\n",
    "# Sort postsynaptic basket cells based on the number of synapses that it\n",
    "# receives from the extended ET neurons\n",
    "# ----------------------------------------------------------------------\n",
    "\n",
    "values = []\n",
    "\n",
    "#root IDs of postynaptic BC neurons\n",
    "pre_soma_IDs = ET_synapse_table.query('consensus_subclass == \"BC\"').post_pt_root_id.unique().tolist()\n",
    "\n",
    "\n",
    "for ii,pre_soma_ID in enumerate(pre_soma_IDs):        \n",
    "        \n",
    "   \n",
    "    stat_values={\n",
    "\n",
    "                    'ID': pre_soma_ID,\n",
    "                    'syn_from_ET': len(ET_synapse_table[ (ET_synapse_table['post_pt_root_id'] == pre_soma_ID)]),\n",
    "             \n",
    "        \n",
    "        \n",
    "    }\n",
    "    values.append(stat_values)\n",
    "    \n",
    "    \n",
    "\n",
    "synapse_table_BC_values = pd.DataFrame(values)\n",
    "\n",
    "synapse_table_BC_values_sorted  = synapse_table_BC_values.sort_values(by='syn_from_ET', ascending=False)\n"
   ]
  },
  {
   "cell_type": "code",
   "execution_count": 6,
   "id": "bea30d06",
   "metadata": {},
   "outputs": [
    {
     "name": "stdout",
     "output_type": "stream",
     "text": [
      "                     ID  syn_from_ET\n",
      "30   864691135066377796           31\n",
      "90   864691136092188340           27\n",
      "214  864691135697251482           27\n",
      "153  864691136021587704           25\n",
      "81   864691135837584531           21\n",
      "244  864691136021592568           21\n",
      "64   864691135938746933           21\n",
      "63   864691135594101291           18\n",
      "82   864691135772832587           18\n",
      "89   864691135865167998           16\n",
      "215  864691135865971164           16\n",
      "9    864691136024968505           15\n",
      "27   864691135386608213           15\n",
      "209  864691135860028520           14\n",
      "73   864691135772785915           14\n",
      "115  864691136109199800           14\n",
      "116  864691136056871128           14\n",
      "196  864691135874731406           12\n",
      "26   864691136032031675           12\n",
      "7    864691136966961614           12\n",
      "83   864691135361287751           12\n",
      "39   864691136175460102           12\n",
      "20   864691135360007512           12\n",
      "15   864691135885129328           11\n",
      "188  864691135463586973           11\n"
     ]
    },
    {
     "name": "stderr",
     "output_type": "stream",
     "text": [
      "\r",
      "0it [00:00, ?it/s]"
     ]
    },
    {
     "name": "stdout",
     "output_type": "stream",
     "text": [
      "864691135066377796\n"
     ]
    },
    {
     "name": "stderr",
     "output_type": "stream",
     "text": [
      "\r",
      "1it [00:27, 27.80s/it]"
     ]
    },
    {
     "name": "stdout",
     "output_type": "stream",
     "text": [
      "864691136092188340\n"
     ]
    },
    {
     "name": "stderr",
     "output_type": "stream",
     "text": [
      "\r",
      "2it [00:59, 30.26s/it]"
     ]
    },
    {
     "name": "stdout",
     "output_type": "stream",
     "text": [
      "864691135697251482\n"
     ]
    },
    {
     "name": "stderr",
     "output_type": "stream",
     "text": [
      "\r",
      "3it [01:26, 28.67s/it]"
     ]
    },
    {
     "name": "stdout",
     "output_type": "stream",
     "text": [
      "864691136021587704\n"
     ]
    },
    {
     "name": "stderr",
     "output_type": "stream",
     "text": [
      "\r",
      "4it [01:59, 30.24s/it]"
     ]
    },
    {
     "name": "stdout",
     "output_type": "stream",
     "text": [
      "864691135837584531\n"
     ]
    },
    {
     "name": "stderr",
     "output_type": "stream",
     "text": [
      "\r",
      "5it [02:24, 28.50s/it]"
     ]
    },
    {
     "name": "stdout",
     "output_type": "stream",
     "text": [
      "864691136021592568\n"
     ]
    },
    {
     "name": "stderr",
     "output_type": "stream",
     "text": [
      "\r",
      "6it [03:10, 34.30s/it]"
     ]
    },
    {
     "name": "stdout",
     "output_type": "stream",
     "text": [
      "864691135938746933\n"
     ]
    },
    {
     "name": "stderr",
     "output_type": "stream",
     "text": [
      "\r",
      "7it [03:34, 31.08s/it]"
     ]
    },
    {
     "name": "stdout",
     "output_type": "stream",
     "text": [
      "864691135594101291\n"
     ]
    },
    {
     "name": "stderr",
     "output_type": "stream",
     "text": [
      "\r",
      "8it [04:01, 29.66s/it]"
     ]
    },
    {
     "name": "stdout",
     "output_type": "stream",
     "text": [
      "864691135772832587\n"
     ]
    },
    {
     "name": "stderr",
     "output_type": "stream",
     "text": [
      "\r",
      "9it [04:23, 27.23s/it]"
     ]
    },
    {
     "name": "stdout",
     "output_type": "stream",
     "text": [
      "864691135865167998\n"
     ]
    },
    {
     "name": "stderr",
     "output_type": "stream",
     "text": [
      "\r",
      "10it [04:46, 26.14s/it]"
     ]
    },
    {
     "name": "stdout",
     "output_type": "stream",
     "text": [
      "864691135865971164\n"
     ]
    },
    {
     "name": "stderr",
     "output_type": "stream",
     "text": [
      "\r",
      "11it [05:16, 27.26s/it]"
     ]
    },
    {
     "name": "stdout",
     "output_type": "stream",
     "text": [
      "864691136024968505\n"
     ]
    },
    {
     "name": "stderr",
     "output_type": "stream",
     "text": [
      "\r",
      "12it [05:35, 24.85s/it]"
     ]
    },
    {
     "name": "stdout",
     "output_type": "stream",
     "text": [
      "864691135386608213\n"
     ]
    },
    {
     "name": "stderr",
     "output_type": "stream",
     "text": [
      "\r",
      "13it [05:55, 23.25s/it]"
     ]
    },
    {
     "name": "stdout",
     "output_type": "stream",
     "text": [
      "864691135860028520\n"
     ]
    },
    {
     "name": "stderr",
     "output_type": "stream",
     "text": [
      "\r",
      "14it [06:30, 26.93s/it]"
     ]
    },
    {
     "name": "stdout",
     "output_type": "stream",
     "text": [
      "864691135772785915\n"
     ]
    },
    {
     "name": "stderr",
     "output_type": "stream",
     "text": [
      "\r",
      "15it [06:57, 26.79s/it]"
     ]
    },
    {
     "name": "stdout",
     "output_type": "stream",
     "text": [
      "864691136109199800\n"
     ]
    },
    {
     "name": "stderr",
     "output_type": "stream",
     "text": [
      "\r",
      "16it [07:21, 25.98s/it]"
     ]
    },
    {
     "name": "stdout",
     "output_type": "stream",
     "text": [
      "864691136056871128\n"
     ]
    },
    {
     "name": "stderr",
     "output_type": "stream",
     "text": [
      "\r",
      "17it [07:47, 25.89s/it]"
     ]
    },
    {
     "name": "stdout",
     "output_type": "stream",
     "text": [
      "864691135874731406\n"
     ]
    },
    {
     "name": "stderr",
     "output_type": "stream",
     "text": [
      "\r",
      "18it [08:08, 24.38s/it]"
     ]
    },
    {
     "name": "stdout",
     "output_type": "stream",
     "text": [
      "864691136032031675\n"
     ]
    },
    {
     "name": "stderr",
     "output_type": "stream",
     "text": [
      "\r",
      "19it [08:29, 23.43s/it]"
     ]
    },
    {
     "name": "stdout",
     "output_type": "stream",
     "text": [
      "864691136966961614\n"
     ]
    },
    {
     "name": "stderr",
     "output_type": "stream",
     "text": [
      "\r",
      "20it [09:02, 26.41s/it]"
     ]
    },
    {
     "name": "stdout",
     "output_type": "stream",
     "text": [
      "864691135361287751\n"
     ]
    },
    {
     "name": "stderr",
     "output_type": "stream",
     "text": [
      "\r",
      "21it [09:23, 24.87s/it]"
     ]
    },
    {
     "name": "stdout",
     "output_type": "stream",
     "text": [
      "864691136175460102\n"
     ]
    },
    {
     "name": "stderr",
     "output_type": "stream",
     "text": [
      "\r",
      "22it [09:58, 27.87s/it]"
     ]
    },
    {
     "name": "stdout",
     "output_type": "stream",
     "text": [
      "864691135360007512\n"
     ]
    },
    {
     "name": "stderr",
     "output_type": "stream",
     "text": [
      "\r",
      "23it [10:21, 26.23s/it]"
     ]
    },
    {
     "name": "stdout",
     "output_type": "stream",
     "text": [
      "864691135885129328\n"
     ]
    },
    {
     "name": "stderr",
     "output_type": "stream",
     "text": [
      "\r",
      "24it [10:47, 26.21s/it]"
     ]
    },
    {
     "name": "stdout",
     "output_type": "stream",
     "text": [
      "864691135463586973\n"
     ]
    },
    {
     "name": "stderr",
     "output_type": "stream",
     "text": [
      "25it [11:14, 26.99s/it]\n"
     ]
    }
   ],
   "source": [
    "# Build the skeletons of the BC neurons\n",
    "\n",
    "inhibitory_targets_df = synapse_table_BC_values_sorted.head(25) \n",
    "print(inhibitory_targets_df)\n",
    "\n",
    "nrns = {}\n",
    "\n",
    "for _, row in tqdm.tqdm(inhibitory_targets_df.iterrows()):\n",
    "\n",
    "    print(row[\"ID\"])\n",
    "    if os.path.exists(f\"{skeldir}/{row['ID']}.h5\"):\n",
    "        nrns[row[\"ID\"]] = meshwork.load_meshwork(f\"{skeldir}/{row['ID']}.h5\")\n",
    "   \n",
    "    else:\n",
    "    \n",
    "        nrns[row[\"ID\"]] = pcg_skel.coord_space_meshwork(\n",
    "            row[\"ID\"],\n",
    "            client=client,\n",
    "            root_point= ET_synapse_table[ET_synapse_table['post_pt_root_id'] == row[\"ID\"]].post_soma_pt.iloc[0],#row[\"pt_position\"], post_soma_pt\n",
    "            root_point_resolution=[4, 4, 40],\n",
    "            collapse_soma=True,\n",
    "            synapses=\"all\",\n",
    "            synapse_table=client.info.get_datastack_info().get(\"synapse_table\"),\n",
    "            timestamp = now,\n",
    "        )\n",
    "\n",
    "        nrns[row[\"ID\"]].save_meshwork(f\"{skeldir}/{row['ID']}.h5\")        \n",
    "        \n",
    "# Get the axons\n",
    "for rid, nrn in nrns.items():\n",
    "    is_axon = meshwork.algorithms.split_axon_by_annotation(\n",
    "        nrn,\n",
    "        'pre_syn',\n",
    "        'post_syn',\n",
    "        return_quality=False\n",
    "    )\n",
    "    nrn.anno.add_annotations('is_axon', is_axon, mask=True)"
   ]
  },
  {
   "cell_type": "code",
   "execution_count": 7,
   "id": "94784049",
   "metadata": {},
   "outputs": [],
   "source": [
    "#Filter for presynaptic outputs on target cell axons and concatenate into one dataframe, adding synapse distance:\n",
    "\n",
    "pre_dfs = []\n",
    "for rid in inhibitory_targets_df[\"ID\"]:\n",
    "    syn_filt = nrns[rid].anno.pre_syn.filter_query(\n",
    "            nrns[rid].anno.is_axon.mesh_mask\n",
    "    )\n",
    "    df = syn_filt.df\n",
    "    df['dist_to_root'] = nrns[rid].distance_to_root(syn_filt.mesh_index)\n",
    "    df['distance_rank'] = df['dist_to_root'].rank()\n",
    "    df.attrs = {}\n",
    "    pre_dfs.append(df)\n",
    "\n",
    "inhibitory_targets_pre_df= pd.concat(pre_dfs, ignore_index=True)\n",
    "inhibitory_targets_pre_df['pre_pt_root_id'] = client.chunkedgraph.get_roots(inhibitory_targets_pre_df['pre_pt_supervoxel_id'], timestamp=now)\n",
    "inhibitory_targets_pre_df['post_pt_root_id'] = client.chunkedgraph.get_roots(inhibitory_targets_pre_df['post_pt_supervoxel_id'], timestamp=now).astype('int')\n"
   ]
  },
  {
   "cell_type": "code",
   "execution_count": 8,
   "id": "c51ba045",
   "metadata": {},
   "outputs": [
    {
     "name": "stderr",
     "output_type": "stream",
     "text": [
      "Table Owner Notice on nucleus_neuron_svm: Please cite https://doi.org/10.1101/2022.07.20.499976 when using this table.\n"
     ]
    }
   ],
   "source": [
    "# Get single soma root ids and add cell types\n",
    "\n",
    "soma_df = client.materialize.query_table(\n",
    "    \"nucleus_neuron_svm\", filter_equal_dict={\"cell_type\": \"neuron\"}\n",
    ")\n",
    "\n",
    "soma_df = soma_df.drop_duplicates(subset=\"pt_root_id\", keep='first')\n",
    "\n",
    "mtypes_model_df = client.materialize.query_table(\n",
    "    \"aibs_metamodel_mtypes_v661_v2\",\n",
    ").drop_duplicates('pt_root_id', keep=False)\n",
    "\n",
    "# Enrich soma_df with all this info\n",
    "soma_df = (\n",
    "    soma_df.merge(        \n",
    "        mtypes_model_df[[\"pt_root_id\", \"cell_type\"]].rename(\n",
    "            columns={\"cell_type\": \"model_cell_type\"}\n",
    "        ),\n",
    "        on=\"pt_root_id\",\n",
    "        how=\"left\",\n",
    "    )\n",
    ")\n",
    "\n",
    "\n",
    "#Add subclass labels to soma_df\n",
    "def standardize_subclass(row):\n",
    "        \n",
    "        \n",
    "    if row['model_cell_type'] == 'L3b':\n",
    "          return 'L23-P'\n",
    "\n",
    "    if row['model_cell_type'] == 'MC':\n",
    "          return 'DTC'\n",
    "    \n",
    "    if row['model_cell_type'] == 'BC':\n",
    "          return 'PTC'\n",
    "    \n",
    "    if row['model_cell_type'] == 'BPC':\n",
    "          return 'ITC'\n",
    "    \n",
    "    if row['model_cell_type'] == 'NGC':\n",
    "          return 'STC'\n",
    "            \n",
    "    if row['model_cell_type'] == '23P':\n",
    "          return 'L23-P'\n",
    "            \n",
    "    if row['model_cell_type'] == 'L2b':\n",
    "          return 'L23-P'\n",
    "          \n",
    "    if row['model_cell_type'] == 'L6tall-c':\n",
    "          return 'L6-P'\n",
    "          \n",
    "    if row['model_cell_type'] == 'L6short-b':\n",
    "          return 'L6-P'\n",
    "          \n",
    "    if row['model_cell_type'] == 'L4b':\n",
    "          return 'L4-P'\n",
    "          \n",
    "    if row['model_cell_type'] == 'L2a':\n",
    "          return 'L23-P'\n",
    "   \n",
    "    if row['model_cell_type'] == 'L3a':\n",
    "          return 'L23-P'\n",
    "          \n",
    "    if row['model_cell_type'] == 'L6tall-b':\n",
    "          return 'L6-P'\n",
    "          \n",
    "    if row['model_cell_type'] == 'L2c':\n",
    "          return 'L23-P'\n",
    "          \n",
    "    if row['model_cell_type'] == 'L4a':\n",
    "          return 'L4-P'\n",
    "\n",
    "    if row['model_cell_type'] == '4P':\n",
    "          return 'L4-P'\n",
    "        \n",
    "    if row['model_cell_type'] == 'L6wm':\n",
    "          return 'L6-P'\n",
    "        \n",
    "    if row['model_cell_type'] == 'L6tall-a':\n",
    "          return 'L6-P'\n",
    " \n",
    "    if row['model_cell_type'] == 'L6short-a':\n",
    "          return 'L6-P'\n",
    "          \n",
    "    if row['model_cell_type'] == 'L5a':\n",
    "          return 'L5-IT'\n",
    "        \n",
    "    if row['model_cell_type'] == 'L5b':\n",
    "          return 'L5-IT'\n",
    "        \n",
    "    if row['model_cell_type'] == 'L5ET':\n",
    "          return 'L5-ET'\n",
    "\n",
    "    if row['model_cell_type'] == 'L5NP':\n",
    "          return 'L5-NP'\n",
    "  \n",
    "    if row['model_cell_type'] == 'L4c':\n",
    "          return 'L4-P'\n",
    "        \n",
    "    if row['model_cell_type'] == 'none':\n",
    "          return None\n",
    "               \n",
    "    if pd.isna(row['model_cell_type']) == True:\n",
    "          return None\n",
    "        \n",
    "    else:\n",
    "          return row['model_cell_type'] \n",
    "\n",
    "soma_df['model_subclass'] = soma_df.apply(standardize_subclass, axis=1)\n",
    "\n",
    "\n",
    "#Merge all this info from cell types into the synapse dataframe, as well as add area locations.\n",
    "\n",
    "#merge presynaptic nucleous ID\n",
    "synapse_table = inhibitory_targets_pre_df.merge(\n",
    "    soma_df[\n",
    "        [\"id\", \"pt_root_id\", \"pt_position\", \"model_subclass\"]\n",
    "    ].rename(columns={\"pt_position\": \"post_soma_pt\"}).rename(columns={\"id\": \"post_nucleus_id\"}),\n",
    "    left_on=\"post_pt_root_id\",\n",
    "    right_on=\"pt_root_id\",\n",
    "    how=\"left\",\n",
    ").drop(columns=\"pt_root_id\")\n",
    "\n",
    "synapse_table = synapse_table.rename(columns={\"id\": \"synapse_id\"})"
   ]
  },
  {
   "cell_type": "code",
   "execution_count": 14,
   "id": "3e35fe6a",
   "metadata": {},
   "outputs": [
    {
     "name": "stdout",
     "output_type": "stream",
     "text": [
      "864691135066377796\n",
      "864691136092188340\n",
      "864691135697251482\n",
      "864691136021587704\n",
      "864691135837584531\n",
      "864691136021592568\n",
      "864691135938746933\n",
      "864691135594101291\n",
      "864691135772832587\n",
      "864691135865167998\n",
      "864691135865971164\n",
      "864691136024968505\n",
      "864691135386608213\n",
      "864691135860028520\n",
      "864691135772785915\n",
      "864691136109199800\n",
      "864691136056871128\n",
      "864691135874731406\n",
      "864691136032031675\n",
      "864691136966961614\n",
      "864691135361287751\n",
      "864691136175460102\n",
      "864691135360007512\n",
      "864691135885129328\n",
      "864691135463586973\n"
     ]
    },
    {
     "data": {
      "text/html": [
       "<div>\n",
       "<style scoped>\n",
       "    .dataframe tbody tr th:only-of-type {\n",
       "        vertical-align: middle;\n",
       "    }\n",
       "\n",
       "    .dataframe tbody tr th {\n",
       "        vertical-align: top;\n",
       "    }\n",
       "\n",
       "    .dataframe thead th {\n",
       "        text-align: right;\n",
       "    }\n",
       "</style>\n",
       "<table border=\"1\" class=\"dataframe\">\n",
       "  <thead>\n",
       "    <tr style=\"text-align: right;\">\n",
       "      <th></th>\n",
       "      <th>ID</th>\n",
       "      <th>all_total_syn#</th>\n",
       "      <th>all_total_syn#_with_prediction</th>\n",
       "      <th>all_total_L5_targets_syn#</th>\n",
       "      <th>L5-ET_syn#</th>\n",
       "      <th>fraction_syn_L5-ET</th>\n",
       "      <th>fraction_syn_L5-ET_from_L5</th>\n",
       "      <th>fraction_syn_L5-ET_from_Exc</th>\n",
       "    </tr>\n",
       "  </thead>\n",
       "  <tbody>\n",
       "    <tr>\n",
       "      <th>0</th>\n",
       "      <td>864691135066377796</td>\n",
       "      <td>1829</td>\n",
       "      <td>1594</td>\n",
       "      <td>1122</td>\n",
       "      <td>861</td>\n",
       "      <td>0.540151</td>\n",
       "      <td>0.767380</td>\n",
       "      <td>0.674236</td>\n",
       "    </tr>\n",
       "    <tr>\n",
       "      <th>1</th>\n",
       "      <td>864691136092188340</td>\n",
       "      <td>2591</td>\n",
       "      <td>2269</td>\n",
       "      <td>1542</td>\n",
       "      <td>1154</td>\n",
       "      <td>0.508594</td>\n",
       "      <td>0.748379</td>\n",
       "      <td>0.629569</td>\n",
       "    </tr>\n",
       "    <tr>\n",
       "      <th>2</th>\n",
       "      <td>864691135697251482</td>\n",
       "      <td>2244</td>\n",
       "      <td>2068</td>\n",
       "      <td>1440</td>\n",
       "      <td>1079</td>\n",
       "      <td>0.521760</td>\n",
       "      <td>0.749306</td>\n",
       "      <td>0.648048</td>\n",
       "    </tr>\n",
       "    <tr>\n",
       "      <th>3</th>\n",
       "      <td>864691136021587704</td>\n",
       "      <td>2404</td>\n",
       "      <td>2245</td>\n",
       "      <td>1751</td>\n",
       "      <td>1420</td>\n",
       "      <td>0.632517</td>\n",
       "      <td>0.810965</td>\n",
       "      <td>0.739583</td>\n",
       "    </tr>\n",
       "    <tr>\n",
       "      <th>4</th>\n",
       "      <td>864691135837584531</td>\n",
       "      <td>1654</td>\n",
       "      <td>1530</td>\n",
       "      <td>1235</td>\n",
       "      <td>993</td>\n",
       "      <td>0.649020</td>\n",
       "      <td>0.804049</td>\n",
       "      <td>0.753986</td>\n",
       "    </tr>\n",
       "    <tr>\n",
       "      <th>5</th>\n",
       "      <td>864691136021592568</td>\n",
       "      <td>7013</td>\n",
       "      <td>6093</td>\n",
       "      <td>4027</td>\n",
       "      <td>1855</td>\n",
       "      <td>0.304448</td>\n",
       "      <td>0.460641</td>\n",
       "      <td>0.371223</td>\n",
       "    </tr>\n",
       "    <tr>\n",
       "      <th>6</th>\n",
       "      <td>864691135938746933</td>\n",
       "      <td>1872</td>\n",
       "      <td>1682</td>\n",
       "      <td>1237</td>\n",
       "      <td>1091</td>\n",
       "      <td>0.648633</td>\n",
       "      <td>0.881973</td>\n",
       "      <td>0.782079</td>\n",
       "    </tr>\n",
       "    <tr>\n",
       "      <th>7</th>\n",
       "      <td>864691135594101291</td>\n",
       "      <td>2066</td>\n",
       "      <td>1842</td>\n",
       "      <td>1242</td>\n",
       "      <td>1034</td>\n",
       "      <td>0.561346</td>\n",
       "      <td>0.832528</td>\n",
       "      <td>0.724090</td>\n",
       "    </tr>\n",
       "    <tr>\n",
       "      <th>8</th>\n",
       "      <td>864691135772832587</td>\n",
       "      <td>1785</td>\n",
       "      <td>1658</td>\n",
       "      <td>1121</td>\n",
       "      <td>977</td>\n",
       "      <td>0.589264</td>\n",
       "      <td>0.871543</td>\n",
       "      <td>0.804115</td>\n",
       "    </tr>\n",
       "    <tr>\n",
       "      <th>9</th>\n",
       "      <td>864691135865167998</td>\n",
       "      <td>2161</td>\n",
       "      <td>1997</td>\n",
       "      <td>1450</td>\n",
       "      <td>1152</td>\n",
       "      <td>0.576865</td>\n",
       "      <td>0.794483</td>\n",
       "      <td>0.693558</td>\n",
       "    </tr>\n",
       "    <tr>\n",
       "      <th>10</th>\n",
       "      <td>864691135865971164</td>\n",
       "      <td>2638</td>\n",
       "      <td>2429</td>\n",
       "      <td>1445</td>\n",
       "      <td>965</td>\n",
       "      <td>0.397283</td>\n",
       "      <td>0.667820</td>\n",
       "      <td>0.521904</td>\n",
       "    </tr>\n",
       "    <tr>\n",
       "      <th>11</th>\n",
       "      <td>864691136024968505</td>\n",
       "      <td>822</td>\n",
       "      <td>740</td>\n",
       "      <td>603</td>\n",
       "      <td>529</td>\n",
       "      <td>0.714865</td>\n",
       "      <td>0.877280</td>\n",
       "      <td>0.812596</td>\n",
       "    </tr>\n",
       "    <tr>\n",
       "      <th>12</th>\n",
       "      <td>864691135386608213</td>\n",
       "      <td>898</td>\n",
       "      <td>780</td>\n",
       "      <td>595</td>\n",
       "      <td>492</td>\n",
       "      <td>0.630769</td>\n",
       "      <td>0.826891</td>\n",
       "      <td>0.718248</td>\n",
       "    </tr>\n",
       "    <tr>\n",
       "      <th>13</th>\n",
       "      <td>864691135860028520</td>\n",
       "      <td>3424</td>\n",
       "      <td>3184</td>\n",
       "      <td>2020</td>\n",
       "      <td>1226</td>\n",
       "      <td>0.385050</td>\n",
       "      <td>0.606931</td>\n",
       "      <td>0.453235</td>\n",
       "    </tr>\n",
       "    <tr>\n",
       "      <th>14</th>\n",
       "      <td>864691135772785915</td>\n",
       "      <td>1720</td>\n",
       "      <td>1509</td>\n",
       "      <td>1002</td>\n",
       "      <td>747</td>\n",
       "      <td>0.495030</td>\n",
       "      <td>0.745509</td>\n",
       "      <td>0.637916</td>\n",
       "    </tr>\n",
       "    <tr>\n",
       "      <th>15</th>\n",
       "      <td>864691136109199800</td>\n",
       "      <td>2377</td>\n",
       "      <td>2221</td>\n",
       "      <td>1474</td>\n",
       "      <td>900</td>\n",
       "      <td>0.405223</td>\n",
       "      <td>0.610583</td>\n",
       "      <td>0.501672</td>\n",
       "    </tr>\n",
       "    <tr>\n",
       "      <th>16</th>\n",
       "      <td>864691136056871128</td>\n",
       "      <td>1651</td>\n",
       "      <td>1491</td>\n",
       "      <td>1033</td>\n",
       "      <td>926</td>\n",
       "      <td>0.621060</td>\n",
       "      <td>0.896418</td>\n",
       "      <td>0.831986</td>\n",
       "    </tr>\n",
       "    <tr>\n",
       "      <th>17</th>\n",
       "      <td>864691135874731406</td>\n",
       "      <td>1181</td>\n",
       "      <td>1057</td>\n",
       "      <td>669</td>\n",
       "      <td>434</td>\n",
       "      <td>0.410596</td>\n",
       "      <td>0.648729</td>\n",
       "      <td>0.573316</td>\n",
       "    </tr>\n",
       "    <tr>\n",
       "      <th>18</th>\n",
       "      <td>864691136032031675</td>\n",
       "      <td>1738</td>\n",
       "      <td>1549</td>\n",
       "      <td>1088</td>\n",
       "      <td>641</td>\n",
       "      <td>0.413815</td>\n",
       "      <td>0.589154</td>\n",
       "      <td>0.528442</td>\n",
       "    </tr>\n",
       "    <tr>\n",
       "      <th>19</th>\n",
       "      <td>864691136966961614</td>\n",
       "      <td>3672</td>\n",
       "      <td>3312</td>\n",
       "      <td>2485</td>\n",
       "      <td>1733</td>\n",
       "      <td>0.523249</td>\n",
       "      <td>0.697384</td>\n",
       "      <td>0.595942</td>\n",
       "    </tr>\n",
       "    <tr>\n",
       "      <th>20</th>\n",
       "      <td>864691135361287751</td>\n",
       "      <td>1514</td>\n",
       "      <td>1378</td>\n",
       "      <td>836</td>\n",
       "      <td>579</td>\n",
       "      <td>0.420174</td>\n",
       "      <td>0.692584</td>\n",
       "      <td>0.580160</td>\n",
       "    </tr>\n",
       "    <tr>\n",
       "      <th>21</th>\n",
       "      <td>864691136175460102</td>\n",
       "      <td>3531</td>\n",
       "      <td>3269</td>\n",
       "      <td>2432</td>\n",
       "      <td>1284</td>\n",
       "      <td>0.392781</td>\n",
       "      <td>0.527961</td>\n",
       "      <td>0.463538</td>\n",
       "    </tr>\n",
       "    <tr>\n",
       "      <th>22</th>\n",
       "      <td>864691135360007512</td>\n",
       "      <td>1241</td>\n",
       "      <td>1104</td>\n",
       "      <td>858</td>\n",
       "      <td>551</td>\n",
       "      <td>0.499094</td>\n",
       "      <td>0.642191</td>\n",
       "      <td>0.589936</td>\n",
       "    </tr>\n",
       "    <tr>\n",
       "      <th>23</th>\n",
       "      <td>864691135885129328</td>\n",
       "      <td>2734</td>\n",
       "      <td>2507</td>\n",
       "      <td>1678</td>\n",
       "      <td>992</td>\n",
       "      <td>0.395692</td>\n",
       "      <td>0.591180</td>\n",
       "      <td>0.483431</td>\n",
       "    </tr>\n",
       "    <tr>\n",
       "      <th>24</th>\n",
       "      <td>864691135463586973</td>\n",
       "      <td>1968</td>\n",
       "      <td>1698</td>\n",
       "      <td>1187</td>\n",
       "      <td>499</td>\n",
       "      <td>0.293875</td>\n",
       "      <td>0.420388</td>\n",
       "      <td>0.350668</td>\n",
       "    </tr>\n",
       "  </tbody>\n",
       "</table>\n",
       "</div>"
      ],
      "text/plain": [
       "                    ID  all_total_syn#  all_total_syn#_with_prediction  \\\n",
       "0   864691135066377796            1829                            1594   \n",
       "1   864691136092188340            2591                            2269   \n",
       "2   864691135697251482            2244                            2068   \n",
       "3   864691136021587704            2404                            2245   \n",
       "4   864691135837584531            1654                            1530   \n",
       "5   864691136021592568            7013                            6093   \n",
       "6   864691135938746933            1872                            1682   \n",
       "7   864691135594101291            2066                            1842   \n",
       "8   864691135772832587            1785                            1658   \n",
       "9   864691135865167998            2161                            1997   \n",
       "10  864691135865971164            2638                            2429   \n",
       "11  864691136024968505             822                             740   \n",
       "12  864691135386608213             898                             780   \n",
       "13  864691135860028520            3424                            3184   \n",
       "14  864691135772785915            1720                            1509   \n",
       "15  864691136109199800            2377                            2221   \n",
       "16  864691136056871128            1651                            1491   \n",
       "17  864691135874731406            1181                            1057   \n",
       "18  864691136032031675            1738                            1549   \n",
       "19  864691136966961614            3672                            3312   \n",
       "20  864691135361287751            1514                            1378   \n",
       "21  864691136175460102            3531                            3269   \n",
       "22  864691135360007512            1241                            1104   \n",
       "23  864691135885129328            2734                            2507   \n",
       "24  864691135463586973            1968                            1698   \n",
       "\n",
       "    all_total_L5_targets_syn#  L5-ET_syn#  fraction_syn_L5-ET  \\\n",
       "0                        1122         861            0.540151   \n",
       "1                        1542        1154            0.508594   \n",
       "2                        1440        1079            0.521760   \n",
       "3                        1751        1420            0.632517   \n",
       "4                        1235         993            0.649020   \n",
       "5                        4027        1855            0.304448   \n",
       "6                        1237        1091            0.648633   \n",
       "7                        1242        1034            0.561346   \n",
       "8                        1121         977            0.589264   \n",
       "9                        1450        1152            0.576865   \n",
       "10                       1445         965            0.397283   \n",
       "11                        603         529            0.714865   \n",
       "12                        595         492            0.630769   \n",
       "13                       2020        1226            0.385050   \n",
       "14                       1002         747            0.495030   \n",
       "15                       1474         900            0.405223   \n",
       "16                       1033         926            0.621060   \n",
       "17                        669         434            0.410596   \n",
       "18                       1088         641            0.413815   \n",
       "19                       2485        1733            0.523249   \n",
       "20                        836         579            0.420174   \n",
       "21                       2432        1284            0.392781   \n",
       "22                        858         551            0.499094   \n",
       "23                       1678         992            0.395692   \n",
       "24                       1187         499            0.293875   \n",
       "\n",
       "    fraction_syn_L5-ET_from_L5  fraction_syn_L5-ET_from_Exc  \n",
       "0                     0.767380                     0.674236  \n",
       "1                     0.748379                     0.629569  \n",
       "2                     0.749306                     0.648048  \n",
       "3                     0.810965                     0.739583  \n",
       "4                     0.804049                     0.753986  \n",
       "5                     0.460641                     0.371223  \n",
       "6                     0.881973                     0.782079  \n",
       "7                     0.832528                     0.724090  \n",
       "8                     0.871543                     0.804115  \n",
       "9                     0.794483                     0.693558  \n",
       "10                    0.667820                     0.521904  \n",
       "11                    0.877280                     0.812596  \n",
       "12                    0.826891                     0.718248  \n",
       "13                    0.606931                     0.453235  \n",
       "14                    0.745509                     0.637916  \n",
       "15                    0.610583                     0.501672  \n",
       "16                    0.896418                     0.831986  \n",
       "17                    0.648729                     0.573316  \n",
       "18                    0.589154                     0.528442  \n",
       "19                    0.697384                     0.595942  \n",
       "20                    0.692584                     0.580160  \n",
       "21                    0.527961                     0.463538  \n",
       "22                    0.642191                     0.589936  \n",
       "23                    0.591180                     0.483431  \n",
       "24                    0.420388                     0.350668  "
      ]
     },
     "execution_count": 14,
     "metadata": {},
     "output_type": "execute_result"
    }
   ],
   "source": [
    "values = []\n",
    "\n",
    "#root IDs of presynaptic PT neurons\n",
    "pre_soma_IDs = inhibitory_targets_df.ID.tolist()\n",
    "\n",
    "\n",
    "for ii,pre_soma_ID in enumerate(pre_soma_IDs):        \n",
    "        \n",
    "    #print(pre_soma_ID)\n",
    "    stat_values={\n",
    "\n",
    "                    'ID': pre_soma_ID,\n",
    "                            \n",
    "                    #SYNAPSES\n",
    "        \n",
    "                    \n",
    "                    'all_total_syn#': len(synapse_table[ (synapse_table['pre_pt_root_id'] == pre_soma_ID)]),\n",
    "        \n",
    "                    'all_total_syn#_with_prediction': len(synapse_table[synapse_table['pre_pt_root_id'] == pre_soma_ID]\n",
    "                                                          ['model_subclass'].dropna()), \n",
    "                    \n",
    "                    'all_total_L5_targets_syn#': len(synapse_table[ ((synapse_table['model_subclass'] == 'L5-ET') |\n",
    "                                                    (synapse_table['model_subclass'] == 'L5-IT') |\n",
    "                                                    (synapse_table['model_subclass'] == 'L5-NP')) &\n",
    "                                                    (synapse_table['pre_pt_root_id'] == pre_soma_ID)]),\n",
    "        \n",
    "                     \n",
    "                    'L5-ET_syn#': len(synapse_table[ (synapse_table['model_subclass'] == 'L5-ET') &\n",
    "                                                    (synapse_table['pre_pt_root_id'] == pre_soma_ID)]),\n",
    "        \n",
    "                    \n",
    "                    'fraction_syn_L5-ET': len(synapse_table[ (synapse_table['model_subclass'] == 'L5-ET') &\n",
    "                                                    (synapse_table['pre_pt_root_id'] == pre_soma_ID)]) /\n",
    "                                            len(synapse_table[synapse_table['pre_pt_root_id'] == pre_soma_ID]\n",
    "                                                          ['model_subclass'].dropna()),\n",
    "        \n",
    "                    'fraction_syn_L5-ET_from_L5': len(synapse_table[ (synapse_table['model_subclass'] == 'L5-ET') &\n",
    "                                                    (synapse_table['pre_pt_root_id'] == pre_soma_ID)]) /\n",
    "                                            len(synapse_table[ ((synapse_table['model_subclass'] == 'L5-ET') |\n",
    "                                                    (synapse_table['model_subclass'] == 'L5-IT') |\n",
    "                                                    (synapse_table['model_subclass'] == 'L5-NP')) &\n",
    "                                                    (synapse_table['pre_pt_root_id'] == pre_soma_ID)]),\n",
    "               \n",
    "                    'fraction_syn_L5-ET_from_Exc': len(synapse_table[ (synapse_table['model_subclass'] == 'L5-ET') &\n",
    "                                                    (synapse_table['pre_pt_root_id'] == pre_soma_ID)]) /\n",
    "                                            len(synapse_table[ ((synapse_table['model_subclass'] == 'L5-ET') |\n",
    "                                                    (synapse_table['model_subclass'] == 'L5-IT') |\n",
    "                                                    (synapse_table['model_subclass'] == 'L5-NP')|\n",
    "                                                    (synapse_table['model_subclass'] == 'L23-P')|\n",
    "                                                    (synapse_table['model_subclass'] == 'L4-P')|\n",
    "                                                    (synapse_table['model_subclass'] == 'L6-P'))&\n",
    "                                                    (synapse_table['pre_pt_root_id'] == pre_soma_ID)]),\n",
    "        \n",
    "                   \n",
    "\n",
    "        \n",
    "        \n",
    "    }\n",
    "    values.append(stat_values)\n",
    "    \n",
    "    \n",
    "\n",
    "synapse_area_table_values = pd.DataFrame(values)\n",
    "\n",
    "synapse_area_table_values"
   ]
  },
  {
   "cell_type": "code",
   "execution_count": 20,
   "id": "b97433bf",
   "metadata": {},
   "outputs": [
    {
     "data": {
      "text/html": [
       "<div>\n",
       "<style scoped>\n",
       "    .dataframe tbody tr th:only-of-type {\n",
       "        vertical-align: middle;\n",
       "    }\n",
       "\n",
       "    .dataframe tbody tr th {\n",
       "        vertical-align: top;\n",
       "    }\n",
       "\n",
       "    .dataframe thead th {\n",
       "        text-align: right;\n",
       "    }\n",
       "</style>\n",
       "<table border=\"1\" class=\"dataframe\">\n",
       "  <thead>\n",
       "    <tr style=\"text-align: right;\">\n",
       "      <th></th>\n",
       "      <th>synapse_id</th>\n",
       "      <th>size</th>\n",
       "      <th>pre_pt_supervoxel_id</th>\n",
       "      <th>pre_pt_root_id</th>\n",
       "      <th>post_pt_supervoxel_id</th>\n",
       "      <th>post_pt_root_id</th>\n",
       "      <th>pre_pt_position</th>\n",
       "      <th>post_pt_position</th>\n",
       "      <th>ctr_pt_position</th>\n",
       "      <th>pre_pt_level2_id</th>\n",
       "      <th>pre_pt_mesh_ind</th>\n",
       "      <th>pre_pt_mesh_ind_filt</th>\n",
       "      <th>dist_to_root</th>\n",
       "      <th>distance_rank</th>\n",
       "      <th>post_nucleus_id</th>\n",
       "      <th>post_soma_pt</th>\n",
       "      <th>model_subclass</th>\n",
       "    </tr>\n",
       "  </thead>\n",
       "  <tbody>\n",
       "    <tr>\n",
       "      <th>0</th>\n",
       "      <td>469950567</td>\n",
       "      <td>11152</td>\n",
       "      <td>114508364134004964</td>\n",
       "      <td>864691135066377796</td>\n",
       "      <td>114508364134002735</td>\n",
       "      <td>864691135274709989</td>\n",
       "      <td>[361952, 198022, 19217]</td>\n",
       "      <td>[361980, 198114, 19222]</td>\n",
       "      <td>[361996, 198079, 19220]</td>\n",
       "      <td>186565958171623978</td>\n",
       "      <td>10351</td>\n",
       "      <td>10351</td>\n",
       "      <td>457581.773148</td>\n",
       "      <td>1829.0</td>\n",
       "      <td>619705.0</td>\n",
       "      <td>[360432, 196240, 19528]</td>\n",
       "      <td>L5-ET</td>\n",
       "    </tr>\n",
       "    <tr>\n",
       "      <th>1</th>\n",
       "      <td>449906518</td>\n",
       "      <td>6028</td>\n",
       "      <td>112748665298856694</td>\n",
       "      <td>864691135066377796</td>\n",
       "      <td>112748665365381714</td>\n",
       "      <td>864691135122798375</td>\n",
       "      <td>[348900, 194410, 25600]</td>\n",
       "      <td>[348972, 194410, 25608]</td>\n",
       "      <td>[348873, 194421, 25607]</td>\n",
       "      <td>184806259336151913</td>\n",
       "      <td>8227</td>\n",
       "      <td>8227</td>\n",
       "      <td>232668.527740</td>\n",
       "      <td>633.0</td>\n",
       "      <td>669907.0</td>\n",
       "      <td>[364832, 197232, 25542]</td>\n",
       "      <td>L5-ET</td>\n",
       "    </tr>\n",
       "    <tr>\n",
       "      <th>2</th>\n",
       "      <td>415703342</td>\n",
       "      <td>8176</td>\n",
       "      <td>109864233646241673</td>\n",
       "      <td>864691135066377796</td>\n",
       "      <td>109934602390434316</td>\n",
       "      <td>864691135926846478</td>\n",
       "      <td>[328158, 199858, 22569]</td>\n",
       "      <td>[328274, 199866, 22584]</td>\n",
       "      <td>[328257, 199851, 22576]</td>\n",
       "      <td>181921827684089991</td>\n",
       "      <td>3900</td>\n",
       "      <td>3900</td>\n",
       "      <td>234341.332489</td>\n",
       "      <td>656.0</td>\n",
       "      <td>589250.0</td>\n",
       "      <td>[337184, 191568, 22863]</td>\n",
       "      <td>L5-ET</td>\n",
       "    </tr>\n",
       "    <tr>\n",
       "      <th>3</th>\n",
       "      <td>469950181</td>\n",
       "      <td>13736</td>\n",
       "      <td>114438064109383080</td>\n",
       "      <td>864691135066377796</td>\n",
       "      <td>114438064109390350</td>\n",
       "      <td>864691135274709989</td>\n",
       "      <td>[361468, 198428, 19268]</td>\n",
       "      <td>[361436, 198442, 19276]</td>\n",
       "      <td>[361512, 198315, 19265]</td>\n",
       "      <td>186495658146923144</td>\n",
       "      <td>10266</td>\n",
       "      <td>10266</td>\n",
       "      <td>454414.288284</td>\n",
       "      <td>1826.5</td>\n",
       "      <td>619705.0</td>\n",
       "      <td>[360432, 196240, 19528]</td>\n",
       "      <td>L5-ET</td>\n",
       "    </tr>\n",
       "    <tr>\n",
       "      <th>4</th>\n",
       "      <td>394738166</td>\n",
       "      <td>2728</td>\n",
       "      <td>108245821518356151</td>\n",
       "      <td>864691135066377796</td>\n",
       "      <td>108245821518362358</td>\n",
       "      <td>864691135697234842</td>\n",
       "      <td>[315970, 200196, 24885]</td>\n",
       "      <td>[315994, 200304, 24892]</td>\n",
       "      <td>[315992, 200272, 24888]</td>\n",
       "      <td>180303415555916409</td>\n",
       "      <td>2058</td>\n",
       "      <td>2058</td>\n",
       "      <td>222946.451828</td>\n",
       "      <td>475.0</td>\n",
       "      <td>531378.0</td>\n",
       "      <td>[306032, 196048, 25567]</td>\n",
       "      <td>L6-P</td>\n",
       "    </tr>\n",
       "  </tbody>\n",
       "</table>\n",
       "</div>"
      ],
      "text/plain": [
       "   synapse_id   size  pre_pt_supervoxel_id      pre_pt_root_id  \\\n",
       "0   469950567  11152    114508364134004964  864691135066377796   \n",
       "1   449906518   6028    112748665298856694  864691135066377796   \n",
       "2   415703342   8176    109864233646241673  864691135066377796   \n",
       "3   469950181  13736    114438064109383080  864691135066377796   \n",
       "4   394738166   2728    108245821518356151  864691135066377796   \n",
       "\n",
       "   post_pt_supervoxel_id     post_pt_root_id          pre_pt_position  \\\n",
       "0     114508364134002735  864691135274709989  [361952, 198022, 19217]   \n",
       "1     112748665365381714  864691135122798375  [348900, 194410, 25600]   \n",
       "2     109934602390434316  864691135926846478  [328158, 199858, 22569]   \n",
       "3     114438064109390350  864691135274709989  [361468, 198428, 19268]   \n",
       "4     108245821518362358  864691135697234842  [315970, 200196, 24885]   \n",
       "\n",
       "          post_pt_position          ctr_pt_position    pre_pt_level2_id  \\\n",
       "0  [361980, 198114, 19222]  [361996, 198079, 19220]  186565958171623978   \n",
       "1  [348972, 194410, 25608]  [348873, 194421, 25607]  184806259336151913   \n",
       "2  [328274, 199866, 22584]  [328257, 199851, 22576]  181921827684089991   \n",
       "3  [361436, 198442, 19276]  [361512, 198315, 19265]  186495658146923144   \n",
       "4  [315994, 200304, 24892]  [315992, 200272, 24888]  180303415555916409   \n",
       "\n",
       "   pre_pt_mesh_ind  pre_pt_mesh_ind_filt   dist_to_root  distance_rank  \\\n",
       "0            10351                 10351  457581.773148         1829.0   \n",
       "1             8227                  8227  232668.527740          633.0   \n",
       "2             3900                  3900  234341.332489          656.0   \n",
       "3            10266                 10266  454414.288284         1826.5   \n",
       "4             2058                  2058  222946.451828          475.0   \n",
       "\n",
       "   post_nucleus_id             post_soma_pt model_subclass  \n",
       "0         619705.0  [360432, 196240, 19528]          L5-ET  \n",
       "1         669907.0  [364832, 197232, 25542]          L5-ET  \n",
       "2         589250.0  [337184, 191568, 22863]          L5-ET  \n",
       "3         619705.0  [360432, 196240, 19528]          L5-ET  \n",
       "4         531378.0  [306032, 196048, 25567]           L6-P  "
      ]
     },
     "execution_count": 20,
     "metadata": {},
     "output_type": "execute_result"
    }
   ],
   "source": [
    "synapse_table.head()"
   ]
  },
  {
   "cell_type": "code",
   "execution_count": 29,
   "id": "0ab5605e",
   "metadata": {},
   "outputs": [
    {
     "data": {
      "image/png": "[encoded data removed]",
      "text/plain": [
       "<Figure size 800x400 with 1 Axes>"
      ]
     },
     "metadata": {},
     "output_type": "display_data"
    }
   ],
   "source": [
    "import seaborn as sns\n",
    "import matplotlib.pyplot as plt\n",
    "\n",
    "f, ax = plt.subplots(figsize=(8,4))\n",
    "\n",
    "ax = sns.swarmplot(data=synapse_area_table_values, x=\"fraction_syn_L5-ET_from_Exc\", size=10)\n",
    "\n",
    "ax.set(xlim=(0, 1))\n",
    "ax.set_xticks([0,0.25,0.5,0.75,1])\n",
    "\n",
    "plt.savefig('Extended_4.eps')"
   ]
  },
  {
   "cell_type": "code",
   "execution_count": null,
   "id": "f58219e8",
   "metadata": {},
   "outputs": [],
   "source": []
  }
 ],
 "metadata": {
  "kernelspec": {
   "display_name": "Python 3 (ipykernel)",
   "language": "python",
   "name": "python3"
  },
  "language_info": {
   "codemirror_mode": {
    "name": "ipython",
    "version": 3
   },
   "file_extension": ".py",
   "mimetype": "text/x-python",
   "name": "python",
   "nbconvert_exporter": "python",
   "pygments_lexer": "ipython3",
   "version": "3.10.4"
  }
 },
 "nbformat": 4,
 "nbformat_minor": 5
}
