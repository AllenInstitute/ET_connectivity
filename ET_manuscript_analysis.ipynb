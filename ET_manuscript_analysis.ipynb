{
 "cells": [
  {
   "cell_type": "code",
   "execution_count": 1,
   "id": "falling-syria",
   "metadata": {},
   "outputs": [],
   "source": [
    "import os\n",
    "import requests\n",
    "import pandas as pd\n",
    "import numpy as np\n",
    "#from annotationframeworkclient import imagery\n",
    "#from annotationframeworkclient.jsonservice import JSONService\n",
    "#from annotationframeworkclient import imagery\n",
    "import cloudvolume\n",
    "from caveclient import CAVEclient\n",
    "import nglui\n",
    "from statistics import mean\n",
    "import matplotlib.pyplot as plt\n",
    "\n",
    "client = CAVEclient('minnie65_phase3_v1')\n",
    "client.info.get_datastack_info()\n",
    "\n",
    "pd.options.display.max_rows = None\n",
    "pd.options.display.max_columns = None"
   ]
  },
  {
   "cell_type": "code",
   "execution_count": 2,
   "id": "137e062c",
   "metadata": {},
   "outputs": [
    {
     "name": "stdout",
     "output_type": "stream",
     "text": [
      "number of individual synapses used from ET column neurons: 3736\n",
      "number of individual synapses used from ET fully extended neurons: 4162\n",
      "total number of individual synapses: 7506\n",
      "number of individual presynaptic ET neurons: 47\n"
     ]
    }
   ],
   "source": [
    "# MAIN\n",
    "# combine all analysed synapses in the manuscript\n",
    "\n",
    "# ET neurons from the column\n",
    "synapse_table_column = pd.read_feather(\"ET_Column_synapse_table.feather\")\n",
    "synapse_table_column = synapse_table_column[['synapse_id','pre_nucleus_id']]\n",
    "\n",
    "print('number of individual synapses used from ET column neurons:',len(synapse_table_column))\n",
    "\n",
    "# ET neurons that were fully extended\n",
    "synapse_table_extended = pd.read_feather(\"ET_extended_synapse_table.feather\")\n",
    "synapse_table_extended = synapse_table_extended[['synapse_id','pre_nucleus_id']]\n",
    "print('number of individual synapses used from ET fully extended neurons:',len(synapse_table_extended))\n",
    "\n",
    "# Merge tables\n",
    "synapse_table_concat = pd.concat([synapse_table_column, synapse_table_extended], axis=0)\n",
    "synapse_table_concat = synapse_table_concat.drop_duplicates(subset='synapse_id', keep='first')\n",
    "print('total number of individual synapses:', len(synapse_table_concat))\n",
    "print('number of individual presynaptic ET neurons:', len(synapse_table_concat.pre_nucleus_id.unique()))\n",
    "\n",
    "\n"
   ]
  },
  {
   "cell_type": "code",
   "execution_count": null,
   "id": "9b940aaf",
   "metadata": {},
   "outputs": [],
   "source": [
    "# MAIN\n",
    "#'y' location of cortical surface\n",
    "surface_y_column =[84534, 85689, 86053, 87800, 89421, 90105, 82884, 81677, 86242]\n",
    "average_surface_location = mean(surface_y_column)"
   ]
  },
  {
   "cell_type": "code",
   "execution_count": null,
   "id": "92e3cd89",
   "metadata": {},
   "outputs": [
    {
     "name": "stdout",
     "output_type": "stream",
     "text": [
      "864691135730543289\n",
      "864691136903585714\n",
      "864691135082322679\n",
      "864691137020299886\n",
      "864691135397023777\n",
      "864691135162983725\n",
      "864691135447395156\n",
      "864691135293076662\n",
      "864691135492596063\n",
      "864691136137767293\n",
      "864691136009704622\n",
      "864691135572084717\n"
     ]
    }
   ],
   "source": [
    "#Number of synapses per ET neuron\n",
    "\n",
    "# Loaad ET neurons that were fully extended\n",
    "synapse_table = pd.read_feather(\"ET_extended_synapse_table.feather\")\n",
    "\n",
    "\n",
    "client = CAVEclient('minnie65_phase3_v1')\n",
    "client.info.get_datastack_info()\n",
    "\n",
    "# setup an empty list\n",
    "ds=[]\n",
    "\n",
    "#Number of inputs and outputs for each PT neuron\n",
    "ET_IDs = synapse_table.pre_pt_root_id.unique()\n",
    "\n",
    "for ET_id in synapse_table.pre_pt_root_id.unique():\n",
    "\n",
    "        print(ET_id)\n",
    "        \n",
    "        d={\n",
    "                        'ET_soma_ID': ET_id,\n",
    "                        'number_output_synapses': len(synapse_table[synapse_table['pre_pt_root_id'] == ET_id]),\n",
    "                        'number_input_synapses': len(client.materialize.synapse_query(post_ids=ET_id)),\n",
    "        }\n",
    "        \n",
    "        #append entry\n",
    "        ds.append(d)\n",
    "\n",
    "ET_io = pd.DataFrame(ds)\n",
    "ET_io   "
   ]
  },
  {
   "cell_type": "code",
   "execution_count": null,
   "id": "929e2d9c",
   "metadata": {},
   "outputs": [],
   "source": [
    "np.mean(pt_io)"
   ]
  },
  {
   "cell_type": "code",
   "execution_count": null,
   "id": "c8476464",
   "metadata": {},
   "outputs": [],
   "source": [
    "np.std(pt_io)"
   ]
  },
  {
   "cell_type": "code",
   "execution_count": null,
   "id": "c2bafb6a",
   "metadata": {},
   "outputs": [],
   "source": [
    "np.min(pt_io)"
   ]
  },
  {
   "cell_type": "markdown",
   "id": "67c31f6b",
   "metadata": {},
   "source": [
    "# FIGURE 1"
   ]
  },
  {
   "cell_type": "code",
   "execution_count": null,
   "id": "084fd74f",
   "metadata": {},
   "outputs": [],
   "source": []
  },
  {
   "cell_type": "code",
   "execution_count": null,
   "id": "5683b616",
   "metadata": {},
   "outputs": [],
   "source": []
  },
  {
   "cell_type": "code",
   "execution_count": null,
   "id": "9f7cc00f",
   "metadata": {},
   "outputs": [],
   "source": []
  },
  {
   "cell_type": "code",
   "execution_count": null,
   "id": "27c8cd61",
   "metadata": {},
   "outputs": [],
   "source": []
  },
  {
   "cell_type": "code",
   "execution_count": null,
   "id": "2c8798ed",
   "metadata": {},
   "outputs": [],
   "source": []
  },
  {
   "cell_type": "code",
   "execution_count": null,
   "id": "59f9ac16",
   "metadata": {},
   "outputs": [],
   "source": []
  },
  {
   "cell_type": "code",
   "execution_count": null,
   "id": "0179d279",
   "metadata": {},
   "outputs": [],
   "source": []
  },
  {
   "cell_type": "markdown",
   "id": "f5849609",
   "metadata": {},
   "source": [
    "# FIGURE 2"
   ]
  },
  {
   "cell_type": "code",
   "execution_count": null,
   "id": "bb3baf58",
   "metadata": {},
   "outputs": [],
   "source": [
    "# ET neurons from the column\n",
    "synapse_table_column = pd.read_feather(\"ET_Column_synapse_table.feather\")\n",
    "\n",
    "#Number of synapses with inhibitory targets\n",
    "print('number of synapses with inhibitpry targets:', \n",
    "      len(synapse_table_column.query(\"consensus_class == 'inhibitory'\")))\n",
    "\n",
    "#Number of synapses with excitatory targets\n",
    "print('number of synapses with excitatory targets:', \n",
    "      len(synapse_table_column.query(\"consensus_class == 'excitatory'\")))\n"
   ]
  },
  {
   "cell_type": "code",
   "execution_count": null,
   "id": "396907fb",
   "metadata": {},
   "outputs": [],
   "source": [
    "# DEBUG CELL\n",
    "ii = 864691135270770597\n",
    "synapse_table[synapse_table['post_pt_root_id'] == ii]#.manual_class.unique()\n",
    "#len(synapse_table[synapse_table['post_pt_root_id'] == ii]) "
   ]
  },
  {
   "cell_type": "code",
   "execution_count": null,
   "id": "adjustable-privacy",
   "metadata": {},
   "outputs": [],
   "source": [
    "# DEBUG CELL\n",
    "\n",
    "#len(synapse_table[(synapse_table['check_class_from_subclass'] != 'OK')])# & (pd.notna(synapse_table['check_class_from_subclass']))]) # (synapse_table['check_class_from_subclass'] != None)])\n",
    "synapse_table[(synapse_table['check_class_from_subclass'] == '5P-NP')]# & (pd.notna(synapse_table['check_class_from_subclass']))]) # (synapse_table['check_class_from_subclass'] != None)])\n",
    "\n",
    "#synapse_table[(synapse_table['id'] == 225174082)]\n",
    "#synapse_table[(synapse_table['check_class_from_subclass'] != 'OK') & (pd.notna(synapse_table['check_class_from_subclass']))] # (synapse_table['check_class_from_subclass'] != None)]"
   ]
  },
  {
   "cell_type": "code",
   "execution_count": null,
   "id": "aa333d36",
   "metadata": {},
   "outputs": [],
   "source": [
    "#CREATE NEUROGLANCER LINK\n",
    "\n",
    "\n",
    "#manual_check = synapse_table[(synapse_table['synapse_id']== 183357055)] #.drop_duplicates(subset='post_pt_root_id')\n",
    "#manual_check = synapse_table[(synapse_table['synapse_id']== 169481027)].drop_duplicates(subset='post_pt_root_id')\n",
    "#manual_check = synapse_table[(synapse_table['ei_baylor'] == 'inhibitory') \n",
    "#              & (synapse_table['ei_aibs'] == 'excitatory') & pd.isna(synapse_table['manual_class'])].drop_duplicates(subset='post_pt_root_id')#.post_pt_root_id.unique()\n",
    "\n",
    "manual_check = synapse_table[(synapse_table['consensus_subclass'] == '5P-ET')]#.drop_duplicates(subset='post_pt_root_id')\n",
    "#manual_check = synapse_table_extended[pd.isna(synapse_table_extended.num_soma)]\n",
    "\n",
    "\n",
    "\n",
    "from nglui import statebuilder\n",
    "\n",
    "img, seg = statebuilder.from_client(client)\n",
    "\n",
    "pt_map = statebuilder.PointMapper('post_pt_position', linked_segmentation_column='post_pt_root_id')\n",
    "anno = statebuilder.AnnotationLayerConfig('post_pt_position', mapping_rules=pt_map, linked_segmentation_layer=seg.name,\n",
    "                                          tags=['excitatory','inhibitory', 'MC', '6P', 'BC', '5P-NP', '5P-IT', '5P-PT'])\n",
    "sb = statebuilder.StateBuilder([img, seg, anno], client=client)\n",
    "\n",
    "#here is where you add the dataframe\n",
    "sb.render_state(manual_check[['post_pt_root_id','post_pt_position']], return_as='html')\n",
    "\n",
    "#[id, x,y,z]"
   ]
  },
  {
   "cell_type": "code",
   "execution_count": null,
   "id": "f14788ce",
   "metadata": {},
   "outputs": [],
   "source": [
    "len(manual_check)"
   ]
  },
  {
   "cell_type": "code",
   "execution_count": null,
   "id": "f46a2499",
   "metadata": {},
   "outputs": [],
   "source": [
    "synapse_table_extended.head()"
   ]
  },
  {
   "cell_type": "code",
   "execution_count": null,
   "id": "excited-upgrade",
   "metadata": {},
   "outputs": [],
   "source": [
    "#OPTIONAL\n",
    "\n",
    "#QC - CHECK DISAGREEMENT BETWEEN AUTOMATED AND MANUAL SUBCLASS LABELS\n",
    "#Iterate  over different combinations\n",
    "synapse_table[(synapse_table['manual_class'] == 'inhibitory') \n",
    "              & (synapse_table['ei_aibs'] == 'inhibitory')\n",
    "              & (synapse_table['ei_aibs'] == 'inhibitory')]\n"
   ]
  },
  {
   "cell_type": "code",
   "execution_count": null,
   "id": "accessory-monday",
   "metadata": {},
   "outputs": [],
   "source": [
    "# MAIN\n",
    "#INTEGRATE CLASS LABELS BETWEEN MANUAL AND AUTOMATED LABELS\n",
    "\n",
    "#generate new consensus column\n",
    "synapse_table['manual_eiaibs_class'] = synapse_table['manual_class']\n",
    "\n",
    "#When there isn't manual label add aibs label\n",
    "\n",
    "def integrate_class(row):\n",
    "    if row['manual_eiaibs_class'] == None:\n",
    "          return row['ei_aibs']\n",
    "    \n",
    "    else:\n",
    "          return row['manual_eiaibs_class']  \n",
    "\n",
    "synapse_table['manual_eiaibs_class'] = synapse_table.apply(integrate_class, axis=1)  "
   ]
  },
  {
   "cell_type": "code",
   "execution_count": null,
   "id": "intense-pressing",
   "metadata": {},
   "outputs": [],
   "source": [
    "# MAIN\n",
    "#INTEGRATE SUBCLASS LABELS BETWEEN MANUAL AND AUTOMATED LABELS\n",
    "\n",
    "#generate new consensus column\n",
    "synapse_table['manual_eiaibs_subclass'] = synapse_table['manual_subclass']\n",
    "\n",
    "#When there isn't manual label add aibs_v2 label\n",
    "\n",
    "def integrate_subclass(row):\n",
    "    if row['manual_eiaibs_subclass'] == None:\n",
    "          return row['aibs_auto_subclass']\n",
    "    \n",
    "    else:\n",
    "          return row['manual_eiaibs_subclass']  \n",
    "\n",
    "synapse_table['manual_eiaibs_subclass'] = synapse_table.apply(integrate_subclass, axis=1)  "
   ]
  },
  {
   "cell_type": "code",
   "execution_count": null,
   "id": "objective-postage",
   "metadata": {},
   "outputs": [],
   "source": [
    "# MAIN\n",
    "#QC - CHECK IF THE INTEGRATED CLASS AND SUBCLASS ARE CONSISTENT\n",
    "\n",
    "\n",
    "#create new column where class is calculated from subclass\n",
    "def create_class_from_subclass(row):\n",
    "    if row['manual_eiaibs_subclass'] == '5P-NP':\n",
    "          return 'excitatory'\n",
    "    if row['manual_eiaibs_subclass'] == '5P-PT':\n",
    "          return 'excitatory'\n",
    "    if row['manual_eiaibs_subclass'] == '5P-IT':\n",
    "          return 'excitatory'\n",
    "    if row['manual_eiaibs_subclass'] == '4P':\n",
    "          return 'excitatory'\n",
    "    if row['manual_eiaibs_subclass'] == '6P':\n",
    "          return 'excitatory'\n",
    "    if row['manual_eiaibs_subclass'] == '6P-IT':\n",
    "          return 'excitatory'\n",
    "    if row['manual_eiaibs_subclass'] == '6P-CT':\n",
    "          return 'excitatory'\n",
    "    if row['manual_eiaibs_subclass'] == '23P':\n",
    "          return 'excitatory'\n",
    "    if row['manual_eiaibs_subclass'] == 'BC':\n",
    "          return 'inhibitory'\n",
    "    if row['manual_eiaibs_subclass'] == 'MC':\n",
    "          return 'inhibitory'\n",
    "    if row['manual_eiaibs_subclass'] == 'NGC':\n",
    "          return 'inhibitory'\n",
    "    if row['manual_eiaibs_subclass'] == 'BPC':\n",
    "          return 'inhibitory'\n",
    "    else:\n",
    "          return row['manual_eiaibs_subclass']\n",
    "\n",
    "synapse_table['class_from_subclass'] = synapse_table.apply(create_class_from_subclass, axis=1)\n",
    "\n",
    "\n",
    "def check_class_from_subclass(row):\n",
    "   \n",
    "    if row['manual_eiaibs_class'] == row['class_from_subclass']:\n",
    "          return 'OK'\n",
    "   \n",
    "    else:\n",
    "          return row['manual_eiaibs_subclass']  \n",
    "\n",
    "synapse_table['check_class_from_subclass'] = synapse_table.apply(check_class_from_subclass, axis=1)\n",
    "\n",
    "synapse_table.check_class_from_subclass.unique()\n"
   ]
  },
  {
   "cell_type": "code",
   "execution_count": null,
   "id": "collected-humanitarian",
   "metadata": {},
   "outputs": [],
   "source": [
    "#len(synapse_table[(synapse_table['check_class_from_subclass'] != 'OK')])# & (pd.notna(synapse_table['check_class_from_subclass']))]) # (synapse_table['check_class_from_subclass'] != None)])\n",
    "synapse_table[(synapse_table['check_class_from_subclass'] == 'MC')]# & (pd.notna(synapse_table['check_class_from_subclass']))]) # (synapse_table['check_class_from_subclass'] != None)])\n",
    "#synapse_table[(synapse_table['manual_eiaibs_subclass'] == 'inhibitory')]# & (pd.notna(synapse_table['check_class_from_subclass']))]) # (synapse_table['check_class_from_subclass'] != None)])\n",
    "\n",
    "#synapse_table[(synapse_table['id'] == 225174082)]\n",
    "#synapse_table[(synapse_table['check_class_from_subclass'] != 'OK') & (pd.notna(synapse_table['check_class_from_subclass']))] # (synapse_table['check_class_from_subclass'] != None)]"
   ]
  },
  {
   "cell_type": "code",
   "execution_count": null,
   "id": "5affbafa",
   "metadata": {},
   "outputs": [],
   "source": [
    "# MAIN\n",
    "\n",
    "synapse_table.loc[1958,'manual_eiaibs_subclass']  = None\n",
    "synapse_table.loc[1958]"
   ]
  },
  {
   "cell_type": "code",
   "execution_count": null,
   "id": "local-nickname",
   "metadata": {},
   "outputs": [],
   "source": [
    "#QC - CHECK DISAGREEMENT BETWEEN AUTOMATED (AIBS AND BAYLOR) AND MANUAL LABELS\n",
    "#Iterate  over different combinations\n",
    "\n",
    "def check_subclass_consensus(row):\n",
    "   \n",
    "    if row['manual_subclass'] == row['aibs_auto_subclass']:\n",
    "          return 'OK'\n",
    "   \n",
    "    else:\n",
    "          return row['manual_subclass']  \n",
    "\n",
    "synapse_table['subclass_consensus'] = synapse_table.apply(check_subclass_consensus, axis=1)\n",
    "\n",
    "\n"
   ]
  },
  {
   "cell_type": "code",
   "execution_count": null,
   "id": "tender-scholar",
   "metadata": {},
   "outputs": [],
   "source": [
    "synapse_table[(synapse_table['manual_class'] == 'inhibitory') \n",
    "              & (synapse_table['ei_baylor'] == 'inhibitory')\n",
    "              & (synapse_table['subclass_consensus'] == 'MC')\n",
    "              & pd.notna(synapse_table['manual_subclass'])].drop_duplicates(subset=['post_pt_root_id'])\n",
    "\n"
   ]
  },
  {
   "cell_type": "code",
   "execution_count": null,
   "id": "portable-academy",
   "metadata": {},
   "outputs": [],
   "source": [
    "synapse_table.head()"
   ]
  },
  {
   "cell_type": "code",
   "execution_count": null,
   "id": "fitted-judgment",
   "metadata": {},
   "outputs": [],
   "source": [
    "synapse_table.pre_pt_root_id.unique()"
   ]
  },
  {
   "cell_type": "code",
   "execution_count": null,
   "id": "executed-minority",
   "metadata": {},
   "outputs": [],
   "source": [
    "# MAIN\n",
    "\n",
    "#SAVE DATAFRAME\n",
    "#synapse_table.to_csv(\"syn_df_updated_feb4__feb5.csv\")\n",
    "synapse_table.reset_index(drop=True).to_feather(\"syn_analysis_column_MANUSCRIPT.feather\")"
   ]
  },
  {
   "cell_type": "code",
   "execution_count": null,
   "id": "typical-median",
   "metadata": {},
   "outputs": [],
   "source": [
    "#COMPARE CLASS LABELS\n",
    "\n",
    "#Neurons for which the baylor and aibs classifications desagree and there is a classification for Baylor\n",
    "#\n",
    "#class_comparison = synapse_table[(synapse_table['ei_baylor'] != synapse_table['ei_aibs'])  &\n",
    "#                                    pd.notna(synapse_table['ei_baylor'])]\n",
    "\n",
    "\n",
    "#Neurons for which the baylor and aibs classifications desagree and there is a classifaction for AIBS\n",
    "#and there is no manual classification\n",
    "#\n",
    "class_comparison = synapse_table[(synapse_table['is_axon'] == True) & (synapse_table['ei_baylor'] != synapse_table['ei_aibs_v2'])  &\n",
    "                                    pd.notna(synapse_table['ei_aibs_v2']) & pd.isnull(synapse_table['manual_class'])]\n",
    "                                    \n",
    "\n",
    "#Neurons for which the baylor has Class label and aibs does not\n",
    "#\n",
    "#class_comparison = synapse_table[pd.notna(synapse_table['ei_baylor']) & pd.isnull(synapse_table['ei_aibs'])]\n",
    "\n",
    "\n",
    "#Other\n",
    "#class_comparison = synapse_table[(synapse_table['ei_baylor'] != synapse_table['ei_aibs'])]\n",
    "\n",
    "#class_comparison = synapse_table[(synapse_table['ei_baylor'] != synapse_table['ei_aibs'])  &\n",
    "#                                    (pd.notna(synapse_table['ei_aibs']) & pd.isnull(synapse_table['ei_baylor']))]\n",
    "\n"
   ]
  },
  {
   "cell_type": "code",
   "execution_count": null,
   "id": "greater-jason",
   "metadata": {},
   "outputs": [],
   "source": [
    "len(synapse_table.post_pt_root_id.unique())"
   ]
  },
  {
   "cell_type": "code",
   "execution_count": null,
   "id": "single-fraction",
   "metadata": {},
   "outputs": [],
   "source": [
    "#ANALYSIS - GENERAL\n",
    "\n",
    "#NUMBER OF SYNAPSES\n",
    "\n",
    "synapse_numbers = { 'total_synapses' : len(synapse_table),\n",
    "                    \n",
    "                    'synapses_with_class_labels' : len(synapse_table[pd.notna(synapse_table['manual_eiaibs_class'])]),\n",
    "                    'synapses_with_class_labels_manual' : len(synapse_table[pd.notna(synapse_table['manual_class'])]),\n",
    "                    'synapses_without_class_labels' : len(synapse_table[pd.isna(synapse_table['manual_eiaibs_class'])]),\n",
    "                   \n",
    "                   \n",
    "                    'synapses_with_subclass_labels' : len(synapse_table[pd.notna(synapse_table['manual_eiaibs_subclass'])]),\n",
    "                    'synapses with_subclass_labels_manual' : len(synapse_table[pd.notna(synapse_table['manual_subclass'])]),\n",
    "                    'synapses_without_subclass_labels' : len(synapse_table[pd.isna(synapse_table['manual_eiaibs_subclass'])]),\n",
    "                   \n",
    "                    'synapses_with_orphans' : len(synapse_table[synapse_table['num_soma'] == 0]),\n",
    "                    'synapses_with_orphans_with_class_labels' : len(synapse_table[(synapse_table['num_soma'] == 0) &\n",
    "                                                                    pd.notna(synapse_table['manual_eiaibs_class'])]),\n",
    "                    'synapses_with_orphans_without_class_labels' : len(synapse_table[(synapse_table['num_soma'] == 0) &\n",
    "                                                                    pd.isna(synapse_table['manual_eiaibs_class'])]),\n",
    "                    'synapses_with_orphans_without_class_labels_spines': [],\n",
    "                    'synapses_with_orphans_without_class_labels_dendrites': [],\n",
    "                    'synapses_with_orphans_with_subclass_labels' : len(synapse_table[(synapse_table['num_soma'] == 0) &\n",
    "                                                                    pd.notna(synapse_table['manual_eiaibs_subclass'])]),\n",
    "                    'synapses_with_orphans_without_subclass_labels' : len(synapse_table[(synapse_table['num_soma'] == 0) &\n",
    "                                                                    pd.isna(synapse_table['manual_eiaibs_subclass'])]),\n",
    "\n",
    "                                   \n",
    "                    'synapses_with_multisoma' : len(synapse_table[synapse_table['num_soma'] > 1]),\n",
    "                    'synapses_with_multisoma_with_class_labels' : len(synapse_table[(synapse_table['num_soma'] > 1) &\n",
    "                                                                    pd.notna(synapse_table['manual_eiaibs_class'])]),\n",
    "                    'synapses_with_multisoma_without_class_labels' : len(synapse_table[(synapse_table['num_soma'] > 1) &\n",
    "                                                                    pd.isna(synapse_table['manual_eiaibs_class'])]),\n",
    "}\n",
    "\n",
    "\n",
    "#NUMBER OF SOMATA\n",
    "\n",
    "connection_numbers = {\n",
    "                    'total_connections' : len(synapse_table[synapse_table['num_soma'] == 1].post_pt_root_id.unique()),\n",
    "                   \n",
    "                    'with_class_labels' : len(synapse_table[(pd.notna(synapse_table['manual_eiaibs_class'])) &\n",
    "                                                             (synapse_table['num_soma'] == 1)].post_pt_root_id.unique()),\n",
    "                    'with_class_labels_manual' : len(synapse_table[(pd.notna(synapse_table['manual_class'])) &\n",
    "                                                             (synapse_table['num_soma'] == 1)].post_pt_root_id.unique()),\n",
    "                    'without_class_labels' : len(synapse_table[(pd.isna(synapse_table['manual_eiaibs_class'])) &\n",
    "                                                             (synapse_table['num_soma'] == 1)].post_pt_root_id.unique()),\n",
    "                \n",
    "    \n",
    "                   \n",
    "                    'with_subclass_labels' : len(synapse_table[(pd.notna(synapse_table['manual_eiaibs_subclass'])) &\n",
    "                                                             (synapse_table['num_soma'] == 1)].post_pt_root_id.unique()),\n",
    "                    'with_subclass_labels_manual' : len(synapse_table[(pd.notna(synapse_table['manual_subclass'])) &\n",
    "                                                             (synapse_table['num_soma'] == 1)].post_pt_root_id.unique()),\n",
    "                    'without_subclass_labels' : len(synapse_table[(pd.isna(synapse_table['manual_eiaibs_subclass'])) &\n",
    "                                                             (synapse_table['num_soma'] == 1)].post_pt_root_id.unique()),\n",
    "   \n",
    "}\n",
    "\n",
    "connection_numbers, synapse_numbers"
   ]
  },
  {
   "cell_type": "code",
   "execution_count": null,
   "id": "stupid-bruce",
   "metadata": {},
   "outputs": [],
   "source": [
    "#ANALYSIS - FIGURE 2\n",
    "#Number of synapses per ET neuron\n",
    "\n",
    "client = CAVEclient('minnie65_phase3_v1')\n",
    "client.info.get_datastack_info()\n",
    "\n",
    "# setup an empty list\n",
    "ds=[]\n",
    "\n",
    "#Number of inputs and outputs for each PT neuron\n",
    "pt_IDs = synapse_table.pre_pt_root_id.unique()\n",
    "\n",
    "for pt_id in synapse_table.pre_pt_root_id.unique():\n",
    "\n",
    "        print(pt_id)\n",
    "        \n",
    "        d={\n",
    "                        'pt_soma_ID': pt_id,\n",
    "                        'number_output_synapses': len(synapse_table[synapse_table['pre_pt_root_id'] == pt_id]),\n",
    "                        'number_input_synapses': len(client.materialize.synapse_query(post_ids=pt_id)),\n",
    "        }\n",
    "        \n",
    "        #append entry\n",
    "        ds.append(d)\n",
    "\n",
    "pt_io = pd.DataFrame(ds)\n",
    "pt_io"
   ]
  },
  {
   "cell_type": "code",
   "execution_count": null,
   "id": "piano-chicago",
   "metadata": {},
   "outputs": [],
   "source": [
    "synapse_table[(synapse_table['pre_pt_root_id'] == 864691135367970809) &\n",
    "                                     (synapse_table['manual_eiaibs_subclass'] == '4P')])\n",
    "\n",
    "\n",
    "\n"
   ]
  },
  {
   "cell_type": "code",
   "execution_count": null,
   "id": "5dd648eb",
   "metadata": {},
   "outputs": [],
   "source": [
    "(client.materialize.query_table('nucleus_detection_v0', \n",
    "                               filter_equal_dict={'id':)['pt_position'].apply(lambda x: x[0]) - average_surface_location)*0.004"
   ]
  },
  {
   "cell_type": "code",
   "execution_count": null,
   "id": "3fbbb62b",
   "metadata": {},
   "outputs": [],
   "source": [
    "anno_df['point'].apply(lambda x: x[0])"
   ]
  },
  {
   "cell_type": "code",
   "execution_count": null,
   "id": "spanish-strength",
   "metadata": {},
   "outputs": [],
   "source": [
    "synapse_table.motif_group.unique()\n"
   ]
  },
  {
   "cell_type": "code",
   "execution_count": null,
   "id": "emerging-inspector",
   "metadata": {},
   "outputs": [],
   "source": [
    "len(synapse_table[ (synapse_table['pre_pt_root_id'] == 864691135660737776)]['post_pt_root_id'].unique())"
   ]
  },
  {
   "cell_type": "code",
   "execution_count": null,
   "id": "a715e32a",
   "metadata": {},
   "outputs": [],
   "source": [
    "(client.materialize.query_table('nucleus_detection_v0', \n",
    "                               filter_equal_dict={'id':pre_soma_ID})['pt_position'].apply(lambda x: x[0]).iloc[0])"
   ]
  },
  {
   "cell_type": "code",
   "execution_count": null,
   "id": "5f8677e6",
   "metadata": {},
   "outputs": [],
   "source": [
    "synapse_table = synapse_table.rename(columns={\"pre_nucleus_id2\": \"pre_nucleus_id\"})\n"
   ]
  },
  {
   "cell_type": "code",
   "execution_count": null,
   "id": "2198b229",
   "metadata": {},
   "outputs": [],
   "source": [
    "from scipy.stats import mannwhitneyu\n",
    "U1, p = mannwhitneyu(synapse_table[synapse_table['consensus_subclass'] == '5P-ET']['size'], \n",
    "                     synapse_table[synapse_table['consensus_subclass'] == '5P-NP']['size'], method='asymptotic')\n",
    "print(p)\n"
   ]
  }
 ],
 "metadata": {
  "kernelspec": {
   "display_name": "Python 3 (ipykernel)",
   "language": "python",
   "name": "python3"
  },
  "language_info": {
   "codemirror_mode": {
    "name": "ipython",
    "version": 3
   },
   "file_extension": ".py",
   "mimetype": "text/x-python",
   "name": "python",
   "nbconvert_exporter": "python",
   "pygments_lexer": "ipython3",
   "version": "3.10.4"
  }
 },
 "nbformat": 4,
 "nbformat_minor": 5
}
