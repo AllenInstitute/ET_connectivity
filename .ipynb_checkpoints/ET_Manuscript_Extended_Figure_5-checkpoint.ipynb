{
 "cells": [
  {
   "cell_type": "code",
   "execution_count": 1,
   "id": "ea3c93b8",
   "metadata": {},
   "outputs": [],
   "source": [
    "import pandas as pd\n",
    "import numpy as np\n",
    "import pcg_skel\n",
    "import tqdm\n",
    "from meshparty import meshwork\n",
    "from caveclient import CAVEclient\n",
    "import datetime\n",
    "import os\n",
    "\n",
    "client = CAVEclient('minnie65_phase3_v1')"
   ]
  },
  {
   "cell_type": "code",
   "execution_count": 2,
   "id": "ca3cf73d",
   "metadata": {},
   "outputs": [],
   "source": [
    "now = client.materialize.get_timestamp()"
   ]
  },
  {
   "cell_type": "code",
   "execution_count": 3,
   "id": "235dcc0d",
   "metadata": {},
   "outputs": [],
   "source": [
    "skeldir = 'skeletons'"
   ]
  },
  {
   "cell_type": "code",
   "execution_count": 4,
   "id": "b3c2ad7b",
   "metadata": {},
   "outputs": [],
   "source": [
    "pd.options.display.max_rows = None\n",
    "pd.options.display.max_columns = None"
   ]
  },
  {
   "cell_type": "markdown",
   "id": "f93b510b",
   "metadata": {},
   "source": [
    "#### EXTENDED FIGURE 4"
   ]
  },
  {
   "cell_type": "markdown",
   "id": "1227ce5e",
   "metadata": {},
   "source": [
    "# Plot for Basket Cells (proximal targeting cells)"
   ]
  },
  {
   "cell_type": "code",
   "execution_count": 5,
   "id": "f1b9d209",
   "metadata": {},
   "outputs": [],
   "source": [
    "# Get synapses formed by the axons of comprehensively extended ET neurons\n",
    "ET_synapse_table = pd.read_feather(\"ET_extended_synapse_table.feather\")\n",
    "\n",
    "# Sort postsynaptic basket cells based on the number of synapses that it\n",
    "# receives from the extended ET neurons\n",
    "# ----------------------------------------------------------------------\n",
    "\n",
    "values = []\n",
    "\n",
    "#root IDs of postynaptic BC neurons\n",
    "pre_soma_IDs = ET_synapse_table.query('consensus_subclass == \"BC\"').post_pt_root_id.unique().tolist()\n",
    "\n",
    "\n",
    "for ii,pre_soma_ID in enumerate(pre_soma_IDs):        \n",
    "        \n",
    "   \n",
    "    stat_values={\n",
    "\n",
    "                    'ID': pre_soma_ID,\n",
    "                    'syn_from_ET': len(ET_synapse_table[ (ET_synapse_table['post_pt_root_id'] == pre_soma_ID)]),\n",
    "             \n",
    "        \n",
    "        \n",
    "    }\n",
    "    values.append(stat_values)\n",
    "    \n",
    "    \n",
    "\n",
    "synapse_table_BC_values = pd.DataFrame(values)\n",
    "\n",
    "synapse_table_BC_values_sorted  = synapse_table_BC_values.sort_values(by='syn_from_ET', ascending=False)\n"
   ]
  },
  {
   "cell_type": "code",
   "execution_count": 6,
   "id": "bea30d06",
   "metadata": {},
   "outputs": [
    {
     "name": "stdout",
     "output_type": "stream",
     "text": [
      "                     ID  syn_from_ET\n",
      "30   864691135066377796           31\n",
      "90   864691136092188340           27\n",
      "214  864691135697251482           27\n",
      "153  864691136021587704           25\n",
      "81   864691135837584531           21\n",
      "244  864691136021592568           21\n",
      "64   864691135938746933           21\n",
      "63   864691135594101291           18\n",
      "82   864691135772832587           18\n",
      "89   864691135865167998           16\n",
      "215  864691135865971164           16\n",
      "9    864691136024968505           15\n",
      "27   864691135386608213           15\n",
      "209  864691135860028520           14\n",
      "73   864691135772785915           14\n",
      "115  864691136109199800           14\n",
      "116  864691136056871128           14\n",
      "196  864691135874731406           12\n",
      "26   864691136032031675           12\n",
      "7    864691136966961614           12\n",
      "83   864691135361287751           12\n",
      "39   864691136175460102           12\n",
      "20   864691135360007512           12\n",
      "15   864691135885129328           11\n",
      "188  864691135463586973           11\n"
     ]
    },
    {
     "name": "stderr",
     "output_type": "stream",
     "text": [
      "\r",
      "0it [00:00, ?it/s]"
     ]
    },
    {
     "name": "stdout",
     "output_type": "stream",
     "text": [
      "864691135066377796\n"
     ]
    },
    {
     "name": "stderr",
     "output_type": "stream",
     "text": [
      "\r",
      "1it [00:27, 27.80s/it]"
     ]
    },
    {
     "name": "stdout",
     "output_type": "stream",
     "text": [
      "864691136092188340\n"
     ]
    },
    {
     "name": "stderr",
     "output_type": "stream",
     "text": [
      "\r",
      "2it [00:59, 30.26s/it]"
     ]
    },
    {
     "name": "stdout",
     "output_type": "stream",
     "text": [
      "864691135697251482\n"
     ]
    },
    {
     "name": "stderr",
     "output_type": "stream",
     "text": [
      "\r",
      "3it [01:26, 28.67s/it]"
     ]
    },
    {
     "name": "stdout",
     "output_type": "stream",
     "text": [
      "864691136021587704\n"
     ]
    },
    {
     "name": "stderr",
     "output_type": "stream",
     "text": [
      "\r",
      "4it [01:59, 30.24s/it]"
     ]
    },
    {
     "name": "stdout",
     "output_type": "stream",
     "text": [
      "864691135837584531\n"
     ]
    },
    {
     "name": "stderr",
     "output_type": "stream",
     "text": [
      "\r",
      "5it [02:24, 28.50s/it]"
     ]
    },
    {
     "name": "stdout",
     "output_type": "stream",
     "text": [
      "864691136021592568\n"
     ]
    },
    {
     "name": "stderr",
     "output_type": "stream",
     "text": [
      "\r",
      "6it [03:10, 34.30s/it]"
     ]
    },
    {
     "name": "stdout",
     "output_type": "stream",
     "text": [
      "864691135938746933\n"
     ]
    },
    {
     "name": "stderr",
     "output_type": "stream",
     "text": [
      "\r",
      "7it [03:34, 31.08s/it]"
     ]
    },
    {
     "name": "stdout",
     "output_type": "stream",
     "text": [
      "864691135594101291\n"
     ]
    },
    {
     "name": "stderr",
     "output_type": "stream",
     "text": [
      "\r",
      "8it [04:01, 29.66s/it]"
     ]
    },
    {
     "name": "stdout",
     "output_type": "stream",
     "text": [
      "864691135772832587\n"
     ]
    },
    {
     "name": "stderr",
     "output_type": "stream",
     "text": [
      "\r",
      "9it [04:23, 27.23s/it]"
     ]
    },
    {
     "name": "stdout",
     "output_type": "stream",
     "text": [
      "864691135865167998\n"
     ]
    },
    {
     "name": "stderr",
     "output_type": "stream",
     "text": [
      "\r",
      "10it [04:46, 26.14s/it]"
     ]
    },
    {
     "name": "stdout",
     "output_type": "stream",
     "text": [
      "864691135865971164\n"
     ]
    },
    {
     "name": "stderr",
     "output_type": "stream",
     "text": [
      "\r",
      "11it [05:16, 27.26s/it]"
     ]
    },
    {
     "name": "stdout",
     "output_type": "stream",
     "text": [
      "864691136024968505\n"
     ]
    },
    {
     "name": "stderr",
     "output_type": "stream",
     "text": [
      "\r",
      "12it [05:35, 24.85s/it]"
     ]
    },
    {
     "name": "stdout",
     "output_type": "stream",
     "text": [
      "864691135386608213\n"
     ]
    },
    {
     "name": "stderr",
     "output_type": "stream",
     "text": [
      "\r",
      "13it [05:55, 23.25s/it]"
     ]
    },
    {
     "name": "stdout",
     "output_type": "stream",
     "text": [
      "864691135860028520\n"
     ]
    },
    {
     "name": "stderr",
     "output_type": "stream",
     "text": [
      "\r",
      "14it [06:30, 26.93s/it]"
     ]
    },
    {
     "name": "stdout",
     "output_type": "stream",
     "text": [
      "864691135772785915\n"
     ]
    },
    {
     "name": "stderr",
     "output_type": "stream",
     "text": [
      "\r",
      "15it [06:57, 26.79s/it]"
     ]
    },
    {
     "name": "stdout",
     "output_type": "stream",
     "text": [
      "864691136109199800\n"
     ]
    },
    {
     "name": "stderr",
     "output_type": "stream",
     "text": [
      "\r",
      "16it [07:21, 25.98s/it]"
     ]
    },
    {
     "name": "stdout",
     "output_type": "stream",
     "text": [
      "864691136056871128\n"
     ]
    },
    {
     "name": "stderr",
     "output_type": "stream",
     "text": [
      "\r",
      "17it [07:47, 25.89s/it]"
     ]
    },
    {
     "name": "stdout",
     "output_type": "stream",
     "text": [
      "864691135874731406\n"
     ]
    },
    {
     "name": "stderr",
     "output_type": "stream",
     "text": [
      "\r",
      "18it [08:08, 24.38s/it]"
     ]
    },
    {
     "name": "stdout",
     "output_type": "stream",
     "text": [
      "864691136032031675\n"
     ]
    },
    {
     "name": "stderr",
     "output_type": "stream",
     "text": [
      "\r",
      "19it [08:29, 23.43s/it]"
     ]
    },
    {
     "name": "stdout",
     "output_type": "stream",
     "text": [
      "864691136966961614\n"
     ]
    },
    {
     "name": "stderr",
     "output_type": "stream",
     "text": [
      "\r",
      "20it [09:02, 26.41s/it]"
     ]
    },
    {
     "name": "stdout",
     "output_type": "stream",
     "text": [
      "864691135361287751\n"
     ]
    },
    {
     "name": "stderr",
     "output_type": "stream",
     "text": [
      "\r",
      "21it [09:23, 24.87s/it]"
     ]
    },
    {
     "name": "stdout",
     "output_type": "stream",
     "text": [
      "864691136175460102\n"
     ]
    },
    {
     "name": "stderr",
     "output_type": "stream",
     "text": [
      "\r",
      "22it [09:58, 27.87s/it]"
     ]
    },
    {
     "name": "stdout",
     "output_type": "stream",
     "text": [
      "864691135360007512\n"
     ]
    },
    {
     "name": "stderr",
     "output_type": "stream",
     "text": [
      "\r",
      "23it [10:21, 26.23s/it]"
     ]
    },
    {
     "name": "stdout",
     "output_type": "stream",
     "text": [
      "864691135885129328\n"
     ]
    },
    {
     "name": "stderr",
     "output_type": "stream",
     "text": [
      "\r",
      "24it [10:47, 26.21s/it]"
     ]
    },
    {
     "name": "stdout",
     "output_type": "stream",
     "text": [
      "864691135463586973\n"
     ]
    },
    {
     "name": "stderr",
     "output_type": "stream",
     "text": [
      "25it [11:14, 26.99s/it]\n"
     ]
    }
   ],
   "source": [
    "# Build the skeletons of the BC neurons\n",
    "\n",
    "inhibitory_targets_df = synapse_table_BC_values_sorted.head(25) \n",
    "print(inhibitory_targets_df)\n",
    "\n",
    "nrns = {}\n",
    "\n",
    "for _, row in tqdm.tqdm(inhibitory_targets_df.iterrows()):\n",
    "\n",
    "    print(row[\"ID\"])\n",
    "    if os.path.exists(f\"{skeldir}/{row['ID']}.h5\"):\n",
    "        nrns[row[\"ID\"]] = meshwork.load_meshwork(f\"{skeldir}/{row['ID']}.h5\")\n",
    "   \n",
    "    else:\n",
    "    \n",
    "        nrns[row[\"ID\"]] = pcg_skel.coord_space_meshwork(\n",
    "            row[\"ID\"],\n",
    "            client=client,\n",
    "            root_point= ET_synapse_table[ET_synapse_table['post_pt_root_id'] == row[\"ID\"]].post_soma_pt.iloc[0],#row[\"pt_position\"], post_soma_pt\n",
    "            root_point_resolution=[4, 4, 40],\n",
    "            collapse_soma=True,\n",
    "            synapses=\"all\",\n",
    "            synapse_table=client.info.get_datastack_info().get(\"synapse_table\"),\n",
    "            timestamp = now,\n",
    "        )\n",
    "\n",
    "        nrns[row[\"ID\"]].save_meshwork(f\"{skeldir}/{row['ID']}.h5\")        \n",
    "        \n",
    "# Get the axons\n",
    "for rid, nrn in nrns.items():\n",
    "    is_axon = meshwork.algorithms.split_axon_by_annotation(\n",
    "        nrn,\n",
    "        'pre_syn',\n",
    "        'post_syn',\n",
    "        return_quality=False\n",
    "    )\n",
    "    nrn.anno.add_annotations('is_axon', is_axon, mask=True)"
   ]
  },
  {
   "cell_type": "code",
   "execution_count": 7,
   "id": "94784049",
   "metadata": {},
   "outputs": [],
   "source": [
    "#Filter for presynaptic outputs on target cell axons and concatenate into one dataframe, adding synapse distance:\n",
    "\n",
    "pre_dfs = []\n",
    "for rid in inhibitory_targets_df[\"ID\"]:\n",
    "    syn_filt = nrns[rid].anno.pre_syn.filter_query(\n",
    "            nrns[rid].anno.is_axon.mesh_mask\n",
    "    )\n",
    "    df = syn_filt.df\n",
    "    df['dist_to_root'] = nrns[rid].distance_to_root(syn_filt.mesh_index)\n",
    "    df['distance_rank'] = df['dist_to_root'].rank()\n",
    "    df.attrs = {}\n",
    "    pre_dfs.append(df)\n",
    "\n",
    "inhibitory_targets_pre_df= pd.concat(pre_dfs, ignore_index=True)\n",
    "inhibitory_targets_pre_df['pre_pt_root_id'] = client.chunkedgraph.get_roots(inhibitory_targets_pre_df['pre_pt_supervoxel_id'], timestamp=now)\n",
    "inhibitory_targets_pre_df['post_pt_root_id'] = client.chunkedgraph.get_roots(inhibitory_targets_pre_df['post_pt_supervoxel_id'], timestamp=now).astype('int')\n"
   ]
  },
  {
   "cell_type": "code",
   "execution_count": 8,
   "id": "c51ba045",
   "metadata": {},
   "outputs": [
    {
     "name": "stderr",
     "output_type": "stream",
     "text": [
      "Table Owner Notice on nucleus_neuron_svm: Please cite https://doi.org/10.1101/2022.07.20.499976 when using this table.\n"
     ]
    }
   ],
   "source": [
    "# Get single soma root ids and add cell types\n",
    "\n",
    "soma_df = client.materialize.query_table(\n",
    "    \"nucleus_neuron_svm\", filter_equal_dict={\"cell_type\": \"neuron\"}\n",
    ")\n",
    "\n",
    "soma_df = soma_df.drop_duplicates(subset=\"pt_root_id\", keep='first')\n",
    "\n",
    "mtypes_model_df = client.materialize.query_table(\n",
    "    \"aibs_metamodel_mtypes_v661_v2\",\n",
    ").drop_duplicates('pt_root_id', keep=False)\n",
    "\n",
    "# Enrich soma_df with all this info\n",
    "soma_df = (\n",
    "    soma_df.merge(        \n",
    "        mtypes_model_df[[\"pt_root_id\", \"cell_type\"]].rename(\n",
    "            columns={\"cell_type\": \"model_cell_type\"}\n",
    "        ),\n",
    "        on=\"pt_root_id\",\n",
    "        how=\"left\",\n",
    "    )\n",
    ")\n",
    "\n",
    "\n",
    "#Add subclass labels to soma_df\n",
    "def standardize_subclass(row):\n",
    "        \n",
    "        \n",
    "    if row['model_cell_type'] == 'L3b':\n",
    "          return 'L23-P'\n",
    "\n",
    "    if row['model_cell_type'] == 'MC':\n",
    "          return 'DTC'\n",
    "    \n",
    "    if row['model_cell_type'] == 'BC':\n",
    "          return 'PTC'\n",
    "    \n",
    "    if row['model_cell_type'] == 'BPC':\n",
    "          return 'ITC'\n",
    "    \n",
    "    if row['model_cell_type'] == 'NGC':\n",
    "          return 'STC'\n",
    "            \n",
    "    if row['model_cell_type'] == '23P':\n",
    "          return 'L23-P'\n",
    "            \n",
    "    if row['model_cell_type'] == 'L2b':\n",
    "          return 'L23-P'\n",
    "          \n",
    "    if row['model_cell_type'] == 'L6tall-c':\n",
    "          return 'L6-P'\n",
    "          \n",
    "    if row['model_cell_type'] == 'L6short-b':\n",
    "          return 'L6-P'\n",
    "          \n",
    "    if row['model_cell_type'] == 'L4b':\n",
    "          return 'L4-P'\n",
    "          \n",
    "    if row['model_cell_type'] == 'L2a':\n",
    "          return 'L23-P'\n",
    "   \n",
    "    if row['model_cell_type'] == 'L3a':\n",
    "          return 'L23-P'\n",
    "          \n",
    "    if row['model_cell_type'] == 'L6tall-b':\n",
    "          return 'L6-P'\n",
    "          \n",
    "    if row['model_cell_type'] == 'L2c':\n",
    "          return 'L23-P'\n",
    "          \n",
    "    if row['model_cell_type'] == 'L4a':\n",
    "          return 'L4-P'\n",
    "\n",
    "    if row['model_cell_type'] == '4P':\n",
    "          return 'L4-P'\n",
    "        \n",
    "    if row['model_cell_type'] == 'L6wm':\n",
    "          return 'L6-P'\n",
    "        \n",
    "    if row['model_cell_type'] == 'L6tall-a':\n",
    "          return 'L6-P'\n",
    " \n",
    "    if row['model_cell_type'] == 'L6short-a':\n",
    "          return 'L6-P'\n",
    "          \n",
    "    if row['model_cell_type'] == 'L5a':\n",
    "          return 'L5-IT'\n",
    "        \n",
    "    if row['model_cell_type'] == 'L5b':\n",
    "          return 'L5-IT'\n",
    "        \n",
    "    if row['model_cell_type'] == 'L5ET':\n",
    "          return 'L5-ET'\n",
    "\n",
    "    if row['model_cell_type'] == 'L5NP':\n",
    "          return 'L5-NP'\n",
    "  \n",
    "    if row['model_cell_type'] == 'L4c':\n",
    "          return 'L4-P'\n",
    "        \n",
    "    if row['model_cell_type'] == 'none':\n",
    "          return None\n",
    "               \n",
    "    if pd.isna(row['model_cell_type']) == True:\n",
    "          return None\n",
    "        \n",
    "    else:\n",
    "          return row['model_cell_type'] \n",
    "\n",
    "soma_df['model_subclass'] = soma_df.apply(standardize_subclass, axis=1)\n",
    "\n",
    "\n",
    "#Merge all this info from cell types into the synapse dataframe, as well as add area locations.\n",
    "\n",
    "#merge presynaptic nucleous ID\n",
    "synapse_table = inhibitory_targets_pre_df.merge(\n",
    "    soma_df[\n",
    "        [\"id\", \"pt_root_id\", \"pt_position\", \"model_subclass\"]\n",
    "    ].rename(columns={\"pt_position\": \"post_soma_pt\"}).rename(columns={\"id\": \"post_nucleus_id\"}),\n",
    "    left_on=\"post_pt_root_id\",\n",
    "    right_on=\"pt_root_id\",\n",
    "    how=\"left\",\n",
    ").drop(columns=\"pt_root_id\")\n",
    "\n",
    "synapse_table = synapse_table.rename(columns={\"id\": \"synapse_id\"})"
   ]
  },
  {
   "cell_type": "code",
   "execution_count": null,
   "id": "6ffe2af1",
   "metadata": {},
   "outputs": [],
   "source": [
    "inhibitory_targets_df.ID.tolist()"
   ]
  },
  {
   "cell_type": "code",
   "execution_count": 14,
   "id": "3e35fe6a",
   "metadata": {},
   "outputs": [
    {
     "name": "stdout",
     "output_type": "stream",
     "text": [
      "864691135066377796\n",
      "864691136092188340\n",
      "864691135697251482\n",
      "864691136021587704\n",
      "864691135837584531\n",
      "864691136021592568\n",
      "864691135938746933\n",
      "864691135594101291\n",
      "864691135772832587\n",
      "864691135865167998\n",
      "864691135865971164\n",
      "864691136024968505\n",
      "864691135386608213\n",
      "864691135860028520\n",
      "864691135772785915\n",
      "864691136109199800\n",
      "864691136056871128\n",
      "864691135874731406\n",
      "864691136032031675\n",
      "864691136966961614\n",
      "864691135361287751\n",
      "864691136175460102\n",
      "864691135360007512\n",
      "864691135885129328\n",
      "864691135463586973\n"
     ]
    },
    {
     "data": {
      "text/html": [
       "<div>\n",
       "<style scoped>\n",
       "    .dataframe tbody tr th:only-of-type {\n",
       "        vertical-align: middle;\n",
       "    }\n",
       "\n",
       "    .dataframe tbody tr th {\n",
       "        vertical-align: top;\n",
       "    }\n",
       "\n",
       "    .dataframe thead th {\n",
       "        text-align: right;\n",
       "    }\n",
       "</style>\n",
       "<table border=\"1\" class=\"dataframe\">\n",
       "  <thead>\n",
       "    <tr style=\"text-align: right;\">\n",
       "      <th></th>\n",
       "      <th>ID</th>\n",
       "      <th>all_total_syn#</th>\n",
       "      <th>all_total_syn#_with_prediction</th>\n",
       "      <th>all_total_L5_targets_syn#</th>\n",
       "      <th>L5-ET_syn#</th>\n",
       "      <th>fraction_syn_L5-ET</th>\n",
       "      <th>fraction_syn_L5-ET_from_L5</th>\n",
       "      <th>fraction_syn_L5-ET_from_Exc</th>\n",
       "    </tr>\n",
       "  </thead>\n",
       "  <tbody>\n",
       "    <tr>\n",
       "      <th>0</th>\n",
       "      <td>864691135066377796</td>\n",
       "      <td>1829</td>\n",
       "      <td>1594</td>\n",
       "      <td>1122</td>\n",
       "      <td>861</td>\n",
       "      <td>0.540151</td>\n",
       "      <td>0.767380</td>\n",
       "      <td>0.674236</td>\n",
       "    </tr>\n",
       "    <tr>\n",
       "      <th>1</th>\n",
       "      <td>864691136092188340</td>\n",
       "      <td>2591</td>\n",
       "      <td>2269</td>\n",
       "      <td>1542</td>\n",
       "      <td>1154</td>\n",
       "      <td>0.508594</td>\n",
       "      <td>0.748379</td>\n",
       "      <td>0.629569</td>\n",
       "    </tr>\n",
       "    <tr>\n",
       "      <th>2</th>\n",
       "      <td>864691135697251482</td>\n",
       "      <td>2244</td>\n",
       "      <td>2068</td>\n",
       "      <td>1440</td>\n",
       "      <td>1079</td>\n",
       "      <td>0.521760</td>\n",
       "      <td>0.749306</td>\n",
       "      <td>0.648048</td>\n",
       "    </tr>\n",
       "    <tr>\n",
       "      <th>3</th>\n",
       "      <td>864691136021587704</td>\n",
       "      <td>2404</td>\n",
       "      <td>2245</td>\n",
       "      <td>1751</td>\n",
       "      <td>1420</td>\n",
       "      <td>0.632517</td>\n",
       "      <td>0.810965</td>\n",
       "      <td>0.739583</td>\n",
       "    </tr>\n",
       "    <tr>\n",
       "      <th>4</th>\n",
       "      <td>864691135837584531</td>\n",
       "      <td>1654</td>\n",
       "      <td>1530</td>\n",
       "      <td>1235</td>\n",
       "      <td>993</td>\n",
       "      <td>0.649020</td>\n",
       "      <td>0.804049</td>\n",
       "      <td>0.753986</td>\n",
       "    </tr>\n",
       "    <tr>\n",
       "      <th>5</th>\n",
       "      <td>864691136021592568</td>\n",
       "      <td>7013</td>\n",
       "      <td>6093</td>\n",
       "      <td>4027</td>\n",
       "      <td>1855</td>\n",
       "      <td>0.304448</td>\n",
       "      <td>0.460641</td>\n",
       "      <td>0.371223</td>\n",
       "    </tr>\n",
       "    <tr>\n",
       "      <th>6</th>\n",
       "      <td>864691135938746933</td>\n",
       "      <td>1872</td>\n",
       "      <td>1682</td>\n",
       "      <td>1237</td>\n",
       "      <td>1091</td>\n",
       "      <td>0.648633</td>\n",
       "      <td>0.881973</td>\n",
       "      <td>0.782079</td>\n",
       "    </tr>\n",
       "    <tr>\n",
       "      <th>7</th>\n",
       "      <td>864691135594101291</td>\n",
       "      <td>2066</td>\n",
       "      <td>1842</td>\n",
       "      <td>1242</td>\n",
       "      <td>1034</td>\n",
       "      <td>0.561346</td>\n",
       "      <td>0.832528</td>\n",
       "      <td>0.724090</td>\n",
       "    </tr>\n",
       "    <tr>\n",
       "      <th>8</th>\n",
       "      <td>864691135772832587</td>\n",
       "      <td>1785</td>\n",
       "      <td>1658</td>\n",
       "      <td>1121</td>\n",
       "      <td>977</td>\n",
       "      <td>0.589264</td>\n",
       "      <td>0.871543</td>\n",
       "      <td>0.804115</td>\n",
       "    </tr>\n",
       "    <tr>\n",
       "      <th>9</th>\n",
       "      <td>864691135865167998</td>\n",
       "      <td>2161</td>\n",
       "      <td>1997</td>\n",
       "      <td>1450</td>\n",
       "      <td>1152</td>\n",
       "      <td>0.576865</td>\n",
       "      <td>0.794483</td>\n",
       "      <td>0.693558</td>\n",
       "    </tr>\n",
       "    <tr>\n",
       "      <th>10</th>\n",
       "      <td>864691135865971164</td>\n",
       "      <td>2638</td>\n",
       "      <td>2429</td>\n",
       "      <td>1445</td>\n",
       "      <td>965</td>\n",
       "      <td>0.397283</td>\n",
       "      <td>0.667820</td>\n",
       "      <td>0.521904</td>\n",
       "    </tr>\n",
       "    <tr>\n",
       "      <th>11</th>\n",
       "      <td>864691136024968505</td>\n",
       "      <td>822</td>\n",
       "      <td>740</td>\n",
       "      <td>603</td>\n",
       "      <td>529</td>\n",
       "      <td>0.714865</td>\n",
       "      <td>0.877280</td>\n",
       "      <td>0.812596</td>\n",
       "    </tr>\n",
       "    <tr>\n",
       "      <th>12</th>\n",
       "      <td>864691135386608213</td>\n",
       "      <td>898</td>\n",
       "      <td>780</td>\n",
       "      <td>595</td>\n",
       "      <td>492</td>\n",
       "      <td>0.630769</td>\n",
       "      <td>0.826891</td>\n",
       "      <td>0.718248</td>\n",
       "    </tr>\n",
       "    <tr>\n",
       "      <th>13</th>\n",
       "      <td>864691135860028520</td>\n",
       "      <td>3424</td>\n",
       "      <td>3184</td>\n",
       "      <td>2020</td>\n",
       "      <td>1226</td>\n",
       "      <td>0.385050</td>\n",
       "      <td>0.606931</td>\n",
       "      <td>0.453235</td>\n",
       "    </tr>\n",
       "    <tr>\n",
       "      <th>14</th>\n",
       "      <td>864691135772785915</td>\n",
       "      <td>1720</td>\n",
       "      <td>1509</td>\n",
       "      <td>1002</td>\n",
       "      <td>747</td>\n",
       "      <td>0.495030</td>\n",
       "      <td>0.745509</td>\n",
       "      <td>0.637916</td>\n",
       "    </tr>\n",
       "    <tr>\n",
       "      <th>15</th>\n",
       "      <td>864691136109199800</td>\n",
       "      <td>2377</td>\n",
       "      <td>2221</td>\n",
       "      <td>1474</td>\n",
       "      <td>900</td>\n",
       "      <td>0.405223</td>\n",
       "      <td>0.610583</td>\n",
       "      <td>0.501672</td>\n",
       "    </tr>\n",
       "    <tr>\n",
       "      <th>16</th>\n",
       "      <td>864691136056871128</td>\n",
       "      <td>1651</td>\n",
       "      <td>1491</td>\n",
       "      <td>1033</td>\n",
       "      <td>926</td>\n",
       "      <td>0.621060</td>\n",
       "      <td>0.896418</td>\n",
       "      <td>0.831986</td>\n",
       "    </tr>\n",
       "    <tr>\n",
       "      <th>17</th>\n",
       "      <td>864691135874731406</td>\n",
       "      <td>1181</td>\n",
       "      <td>1057</td>\n",
       "      <td>669</td>\n",
       "      <td>434</td>\n",
       "      <td>0.410596</td>\n",
       "      <td>0.648729</td>\n",
       "      <td>0.573316</td>\n",
       "    </tr>\n",
       "    <tr>\n",
       "      <th>18</th>\n",
       "      <td>864691136032031675</td>\n",
       "      <td>1738</td>\n",
       "      <td>1549</td>\n",
       "      <td>1088</td>\n",
       "      <td>641</td>\n",
       "      <td>0.413815</td>\n",
       "      <td>0.589154</td>\n",
       "      <td>0.528442</td>\n",
       "    </tr>\n",
       "    <tr>\n",
       "      <th>19</th>\n",
       "      <td>864691136966961614</td>\n",
       "      <td>3672</td>\n",
       "      <td>3312</td>\n",
       "      <td>2485</td>\n",
       "      <td>1733</td>\n",
       "      <td>0.523249</td>\n",
       "      <td>0.697384</td>\n",
       "      <td>0.595942</td>\n",
       "    </tr>\n",
       "    <tr>\n",
       "      <th>20</th>\n",
       "      <td>864691135361287751</td>\n",
       "      <td>1514</td>\n",
       "      <td>1378</td>\n",
       "      <td>836</td>\n",
       "      <td>579</td>\n",
       "      <td>0.420174</td>\n",
       "      <td>0.692584</td>\n",
       "      <td>0.580160</td>\n",
       "    </tr>\n",
       "    <tr>\n",
       "      <th>21</th>\n",
       "      <td>864691136175460102</td>\n",
       "      <td>3531</td>\n",
       "      <td>3269</td>\n",
       "      <td>2432</td>\n",
       "      <td>1284</td>\n",
       "      <td>0.392781</td>\n",
       "      <td>0.527961</td>\n",
       "      <td>0.463538</td>\n",
       "    </tr>\n",
       "    <tr>\n",
       "      <th>22</th>\n",
       "      <td>864691135360007512</td>\n",
       "      <td>1241</td>\n",
       "      <td>1104</td>\n",
       "      <td>858</td>\n",
       "      <td>551</td>\n",
       "      <td>0.499094</td>\n",
       "      <td>0.642191</td>\n",
       "      <td>0.589936</td>\n",
       "    </tr>\n",
       "    <tr>\n",
       "      <th>23</th>\n",
       "      <td>864691135885129328</td>\n",
       "      <td>2734</td>\n",
       "      <td>2507</td>\n",
       "      <td>1678</td>\n",
       "      <td>992</td>\n",
       "      <td>0.395692</td>\n",
       "      <td>0.591180</td>\n",
       "      <td>0.483431</td>\n",
       "    </tr>\n",
       "    <tr>\n",
       "      <th>24</th>\n",
       "      <td>864691135463586973</td>\n",
       "      <td>1968</td>\n",
       "      <td>1698</td>\n",
       "      <td>1187</td>\n",
       "      <td>499</td>\n",
       "      <td>0.293875</td>\n",
       "      <td>0.420388</td>\n",
       "      <td>0.350668</td>\n",
       "    </tr>\n",
       "  </tbody>\n",
       "</table>\n",
       "</div>"
      ],
      "text/plain": [
       "                    ID  all_total_syn#  all_total_syn#_with_prediction  \\\n",
       "0   864691135066377796            1829                            1594   \n",
       "1   864691136092188340            2591                            2269   \n",
       "2   864691135697251482            2244                            2068   \n",
       "3   864691136021587704            2404                            2245   \n",
       "4   864691135837584531            1654                            1530   \n",
       "5   864691136021592568            7013                            6093   \n",
       "6   864691135938746933            1872                            1682   \n",
       "7   864691135594101291            2066                            1842   \n",
       "8   864691135772832587            1785                            1658   \n",
       "9   864691135865167998            2161                            1997   \n",
       "10  864691135865971164            2638                            2429   \n",
       "11  864691136024968505             822                             740   \n",
       "12  864691135386608213             898                             780   \n",
       "13  864691135860028520            3424                            3184   \n",
       "14  864691135772785915            1720                            1509   \n",
       "15  864691136109199800            2377                            2221   \n",
       "16  864691136056871128            1651                            1491   \n",
       "17  864691135874731406            1181                            1057   \n",
       "18  864691136032031675            1738                            1549   \n",
       "19  864691136966961614            3672                            3312   \n",
       "20  864691135361287751            1514                            1378   \n",
       "21  864691136175460102            3531                            3269   \n",
       "22  864691135360007512            1241                            1104   \n",
       "23  864691135885129328            2734                            2507   \n",
       "24  864691135463586973            1968                            1698   \n",
       "\n",
       "    all_total_L5_targets_syn#  L5-ET_syn#  fraction_syn_L5-ET  \\\n",
       "0                        1122         861            0.540151   \n",
       "1                        1542        1154            0.508594   \n",
       "2                        1440        1079            0.521760   \n",
       "3                        1751        1420            0.632517   \n",
       "4                        1235         993            0.649020   \n",
       "5                        4027        1855            0.304448   \n",
       "6                        1237        1091            0.648633   \n",
       "7                        1242        1034            0.561346   \n",
       "8                        1121         977            0.589264   \n",
       "9                        1450        1152            0.576865   \n",
       "10                       1445         965            0.397283   \n",
       "11                        603         529            0.714865   \n",
       "12                        595         492            0.630769   \n",
       "13                       2020        1226            0.385050   \n",
       "14                       1002         747            0.495030   \n",
       "15                       1474         900            0.405223   \n",
       "16                       1033         926            0.621060   \n",
       "17                        669         434            0.410596   \n",
       "18                       1088         641            0.413815   \n",
       "19                       2485        1733            0.523249   \n",
       "20                        836         579            0.420174   \n",
       "21                       2432        1284            0.392781   \n",
       "22                        858         551            0.499094   \n",
       "23                       1678         992            0.395692   \n",
       "24                       1187         499            0.293875   \n",
       "\n",
       "    fraction_syn_L5-ET_from_L5  fraction_syn_L5-ET_from_Exc  \n",
       "0                     0.767380                     0.674236  \n",
       "1                     0.748379                     0.629569  \n",
       "2                     0.749306                     0.648048  \n",
       "3                     0.810965                     0.739583  \n",
       "4                     0.804049                     0.753986  \n",
       "5                     0.460641                     0.371223  \n",
       "6                     0.881973                     0.782079  \n",
       "7                     0.832528                     0.724090  \n",
       "8                     0.871543                     0.804115  \n",
       "9                     0.794483                     0.693558  \n",
       "10                    0.667820                     0.521904  \n",
       "11                    0.877280                     0.812596  \n",
       "12                    0.826891                     0.718248  \n",
       "13                    0.606931                     0.453235  \n",
       "14                    0.745509                     0.637916  \n",
       "15                    0.610583                     0.501672  \n",
       "16                    0.896418                     0.831986  \n",
       "17                    0.648729                     0.573316  \n",
       "18                    0.589154                     0.528442  \n",
       "19                    0.697384                     0.595942  \n",
       "20                    0.692584                     0.580160  \n",
       "21                    0.527961                     0.463538  \n",
       "22                    0.642191                     0.589936  \n",
       "23                    0.591180                     0.483431  \n",
       "24                    0.420388                     0.350668  "
      ]
     },
     "execution_count": 14,
     "metadata": {},
     "output_type": "execute_result"
    }
   ],
   "source": [
    "values = []\n",
    "\n",
    "#root IDs of presynaptic PT neurons\n",
    "pre_soma_IDs = inhibitory_targets_df.ID.tolist()\n",
    "\n",
    "\n",
    "for ii,pre_soma_ID in enumerate(pre_soma_IDs):        \n",
    "        \n",
    "    print(pre_soma_ID)\n",
    "    stat_values={\n",
    "\n",
    "                    'ID': pre_soma_ID,\n",
    "                            \n",
    "                    #SYNAPSES\n",
    "        \n",
    "                    \n",
    "                    'all_total_syn#': len(synapse_table[ (synapse_table['pre_pt_root_id'] == pre_soma_ID)]),\n",
    "        \n",
    "                    'all_total_syn#_with_prediction': len(synapse_table[synapse_table['pre_pt_root_id'] == pre_soma_ID]\n",
    "                                                          ['model_subclass'].dropna()), \n",
    "                    \n",
    "                    'all_total_L5_targets_syn#': len(synapse_table[ ((synapse_table['model_subclass'] == 'L5-ET') |\n",
    "                                                    (synapse_table['model_subclass'] == 'L5-IT') |\n",
    "                                                    (synapse_table['model_subclass'] == 'L5-NP')) &\n",
    "                                                    (synapse_table['pre_pt_root_id'] == pre_soma_ID)]),\n",
    "        \n",
    "                     \n",
    "                    'L5-ET_syn#': len(synapse_table[ (synapse_table['model_subclass'] == 'L5-ET') &\n",
    "                                                    (synapse_table['pre_pt_root_id'] == pre_soma_ID)]),\n",
    "        \n",
    "                    \n",
    "                    'fraction_syn_L5-ET': len(synapse_table[ (synapse_table['model_subclass'] == 'L5-ET') &\n",
    "                                                    (synapse_table['pre_pt_root_id'] == pre_soma_ID)]) /\n",
    "                                            len(synapse_table[synapse_table['pre_pt_root_id'] == pre_soma_ID]\n",
    "                                                          ['model_subclass'].dropna()),\n",
    "        \n",
    "                    'fraction_syn_L5-ET_from_L5': len(synapse_table[ (synapse_table['model_subclass'] == 'L5-ET') &\n",
    "                                                    (synapse_table['pre_pt_root_id'] == pre_soma_ID)]) /\n",
    "                                            len(synapse_table[ ((synapse_table['model_subclass'] == 'L5-ET') |\n",
    "                                                    (synapse_table['model_subclass'] == 'L5-IT') |\n",
    "                                                    (synapse_table['model_subclass'] == 'L5-NP')) &\n",
    "                                                    (synapse_table['pre_pt_root_id'] == pre_soma_ID)]),\n",
    "               \n",
    "                    'fraction_syn_L5-ET_from_Exc': len(synapse_table[ (synapse_table['model_subclass'] == 'L5-ET') &\n",
    "                                                    (synapse_table['pre_pt_root_id'] == pre_soma_ID)]) /\n",
    "                                            len(synapse_table[ ((synapse_table['model_subclass'] == 'L5-ET') |\n",
    "                                                    (synapse_table['model_subclass'] == 'L5-IT') |\n",
    "                                                    (synapse_table['model_subclass'] == 'L5-NP')|\n",
    "                                                    (synapse_table['model_subclass'] == 'L23-P')|\n",
    "                                                    (synapse_table['model_subclass'] == 'L4-P')|\n",
    "                                                    (synapse_table['model_subclass'] == 'L6-P'))&\n",
    "                                                    (synapse_table['pre_pt_root_id'] == pre_soma_ID)]),\n",
    "        \n",
    "                   \n",
    "\n",
    "        \n",
    "        \n",
    "    }\n",
    "    values.append(stat_values)\n",
    "    \n",
    "    \n",
    "\n",
    "synapse_area_table_values = pd.DataFrame(values)\n",
    "\n",
    "synapse_area_table_values"
   ]
  },
  {
   "cell_type": "code",
   "execution_count": null,
   "id": "efeb538a",
   "metadata": {},
   "outputs": [],
   "source": [
    "# add to table:\n",
    "# 864691135066377796 extended 591233\n",
    "# 864691136578270740 extended 302509\n",
    "# 864691135716231194 extended 234332\n",
    "# 864691136136993149 extended 563266\n",
    "# 864691135337691878 cleanned 233113\n",
    "# 864691136012053667 cleanned 339240\n",
    "# 864691136389537655 extended 303115\n",
    "# 864691135927047182 extended 563113\n",
    "# 864691135446808210 extended 339622\n",
    "# 864691135618913935 cleanned 234514\n",
    "# 864691135292369334 extended 267498\n",
    "\n",
    "#BC to do:\n",
    "\n",
    "\n",
    "#MC to do:\n",
    "864691135865136510\n",
    "864691134918566154\n",
    "864691136266742772\n",
    "864691136578777620\n",
    "864691136051830771\n",
    "864691135491534183\n",
    "864691136966952910\n",
    "864691136092196788\n",
    "864691135582634349\n",
    "864691136966951886\n",
    "864691135867810326\n",
    "864691135497885459\n",
    "864691135304556199\n",
    "864691135848921182\n",
    "864691135257373871\n",
    "864691136595825058\n",
    "864691135569519494\n"
   ]
  },
  {
   "cell_type": "code",
   "execution_count": null,
   "id": "10e0e1a7",
   "metadata": {},
   "outputs": [],
   "source": []
  },
  {
   "cell_type": "code",
   "execution_count": 1,
   "id": "1b662544",
   "metadata": {},
   "outputs": [],
   "source": [
    "#plot skeletons of neurons\n",
    "\n",
    "%load_ext autoreload\n",
    "%autoreload 2\n",
    "import skeleton_plot as skelplot\n",
    "from skeleton_plot.skel_io import *\n",
    "import matplotlib.pyplot as plt\n",
    "import numpy as np\n",
    "import os\n",
    "import pandas as pd\n",
    "%matplotlib inline"
   ]
  },
  {
   "cell_type": "code",
   "execution_count": 2,
   "id": "9da9cade",
   "metadata": {},
   "outputs": [],
   "source": [
    "skel_path = 'https://storage.googleapis.com/allen-minnie-phase3/minniephase3-emily-pcg-skeletons/minnie_all/BIL_neurons/file_groups/'\n"
   ]
  },
  {
   "cell_type": "code",
   "execution_count": null,
   "id": "a7ff0784",
   "metadata": {},
   "outputs": [],
   "source": [
    "ET_extended =  {'rid': [864691135730543289, 864691136617461979, 864691135182092034, 864691135776144045, \n",
    "                        864691135494401680, 864691135472306482, 864691135660737776, 864691135476398504,\n",
    "                        864691135509054217, 864691135991773633, 864691135850843335, 864691135502157405],\n",
    "        'sid': [ 266839, 589294, 303216, 232635, 494888, 495010, 526436, 302951, 267033, 267029, 527784,\n",
    "                337966]}\n",
    "\n",
    "ET_extended_df = pd.DataFrame(ET_extended)\n",
    "\n",
    "for _, row in ET_extended_df.iterrows():\n",
    "    #print(row.sid)\n",
    "\n",
    "    # plot the radius from the swc \n",
    "    rid = row.rid\n",
    "    sid = row.sid\n",
    "    sk = read_skeleton(skel_path+f'{rid}_{sid}', f'{rid}_{sid}.swc')\n",
    "\n",
    "    f , ax = plt.subplots(figsize=(7,10))\n",
    "    \n",
    "    skelplot.plot_tools.plot_skel(sk,  ax=ax, pull_radius = True, pull_compartment_colors = True,\n",
    "                                  invert_y=True, plot_soma = True, \n",
    "                                 line_width = 3, color = 'darkslategray') \n",
    "    \n",
    "    ax.set(xlim=(300, 1700), ylim=(1100, 300))\n",
    "    \n",
    "    fig_name = 'skeleton' + str(row.sid) + '.eps'\n",
    "    \n",
    "    #plt.axis('off')\n",
    "    \n",
    "    f.savefig(fig_name, bbox_inches='tight')\n",
    "\n"
   ]
  },
  {
   "cell_type": "markdown",
   "id": "0be6a3f3",
   "metadata": {},
   "source": [
    "# EXTENDED FIGURE 6"
   ]
  },
  {
   "cell_type": "code",
   "execution_count": null,
   "id": "f3a0d560",
   "metadata": {},
   "outputs": [],
   "source": [
    "import os\n",
    "import requests\n",
    "import pandas as pd\n",
    "import numpy as np\n",
    "import cloudvolume\n",
    "from caveclient import CAVEclient\n",
    "import nglui\n",
    "from statistics import mean\n",
    "import matplotlib.pyplot as plt\n",
    "\n",
    "#client = CAVEclient('minnie65_phase3_v1')\n",
    "#client.info.get_datastack_info()"
   ]
  },
  {
   "cell_type": "code",
   "execution_count": null,
   "id": "4513b90c",
   "metadata": {},
   "outputs": [],
   "source": [
    "#MAKE STATS DATAFRAME - All synapses and connections\n",
    "\n",
    "pd.options.display.max_rows = None\n",
    "pd.options.display.max_columns = None\n",
    "\n",
    "#Load dataframe\n",
    "synapse_table = pd.read_feather(\"syn_analysis_column_MANUSCRIPT.feather\")\n",
    "\n",
    "#get ET neurons root IDs\n",
    "All_neurons = synapse_table.pre_pt_root_id.unique()\n",
    "print('number of ET neurons: ',len(All_neurons))\n",
    "\n",
    "#'y' location of cortical surface\n",
    "surface_y_column =[84534, 85689, 86053, 87800, 89421, 90105, 82884, 81677, 86242]\n",
    "average_surface_location = mean(surface_y_column)\n",
    "\n",
    "\n",
    "#Create Dataframe\n",
    "\n",
    "np.seterr(divide='ignore', invalid='ignore')\n",
    "\n",
    "percentage = []\n",
    "values = []\n",
    "\n",
    "#IDs of presynaptic PT neurons\n",
    "pre_soma_IDs = All_neurons\n",
    "\n",
    "\n",
    "for ii,pre_soma_ID in enumerate(pre_soma_IDs):        \n",
    "        \n",
    "    pre_nucleus_ID = synapse_table[(synapse_table['pre_pt_root_id'] == pre_soma_ID)].pre_nucleus_id2.unique().item(),\n",
    "                    \n",
    "    \n",
    "    stat_values={\n",
    "\n",
    "                    'ID': pre_soma_ID,\n",
    "                    'nucleus_ID':  pre_nucleus_ID[0],\n",
    "                    \n",
    "    #SYNAPSES\n",
    "                    \n",
    "                    'all_syn_total': len(synapse_table[ (synapse_table['pre_pt_root_id'] == pre_soma_ID)]),\n",
    "                    'all_e_syn#': len(synapse_table[(synapse_table['pre_pt_root_id'] == pre_soma_ID) &\n",
    "                                     (synapse_table['manual_eiaibs_class'] == 'excitatory')]),\n",
    "                    'all_i_syn#': len(synapse_table[(synapse_table['pre_pt_root_id'] == pre_soma_ID) &\n",
    "                                     (synapse_table['manual_eiaibs_class'] == 'inhibitory')]),\n",
    "        \n",
    "                    'all_Undetermined_class_syn#': len(synapse_table[(synapse_table['pre_pt_root_id'] == pre_soma_ID) &\n",
    "                                     ((synapse_table['manual_eiaibs_class'] == 'Unsure') |\n",
    "                                      pd.isnull(synapse_table['manual_eiaibs_class']))]),\n",
    "                    \n",
    "        \n",
    "                    'all_23P_syn#': len(synapse_table[(synapse_table['pre_pt_root_id'] == pre_soma_ID) &\n",
    "                                     (synapse_table['manual_eiaibs_subclass'] == '23P')]),\n",
    "        \n",
    "                    'all_4P_syn#': len(synapse_table[(synapse_table['pre_pt_root_id'] == pre_soma_ID) &\n",
    "                                     (synapse_table['manual_eiaibs_subclass'] == '4P')]),\n",
    "                    'all_5P-PT_syn#': len(synapse_table[(synapse_table['pre_pt_root_id'] == pre_soma_ID) &\n",
    "                                     (synapse_table['manual_eiaibs_subclass'] == '5P-PT')]),\n",
    "                    'all_5P-NP_syn#': len(synapse_table[(synapse_table['pre_pt_root_id'] == pre_soma_ID) &\n",
    "                                     (synapse_table['manual_eiaibs_subclass'] == '5P-NP')]), \n",
    "                    'all_5P-IT_syn#': len(synapse_table[(synapse_table['pre_pt_root_id'] == pre_soma_ID) &\n",
    "                                     (synapse_table['manual_eiaibs_subclass'] == '5P-IT')]), \n",
    "                \n",
    "                    'all_6P_syn#': len(synapse_table[(synapse_table['pre_pt_root_id'] == pre_soma_ID) &\n",
    "                                     (synapse_table['manual_eiaibs_subclass'] == '6P')]),\n",
    "        \n",
    "                    'all_BC_syn#': len(synapse_table[(synapse_table['pre_pt_root_id'] == pre_soma_ID) &\n",
    "                                     (synapse_table['manual_eiaibs_subclass'] == 'BC')]),\n",
    "        \n",
    "                    'all_MC_syn#': len(synapse_table[(synapse_table['pre_pt_root_id'] == pre_soma_ID) &\n",
    "                                     (synapse_table['manual_eiaibs_subclass'] == 'MC')]),\n",
    "        \n",
    "                    'all_BPC_syn#': len(synapse_table[(synapse_table['pre_pt_root_id'] == pre_soma_ID) &\n",
    "                                     (synapse_table['manual_eiaibs_subclass'] == 'BPC')]),\n",
    "        \n",
    "                    'all_NGC_syn#': len(synapse_table[(synapse_table['pre_pt_root_id'] == pre_soma_ID) &\n",
    "                                     (synapse_table['manual_eiaibs_subclass'] == 'NGC')]),\n",
    "        \n",
    "                    'all_Undetermined_subclass_syn#': len(synapse_table[(synapse_table['pre_pt_root_id'] == pre_soma_ID) &\n",
    "                                     ((synapse_table['manual_eiaibs_subclass'] == 'Unsure') |\n",
    "                                      pd.isnull(synapse_table['manual_eiaibs_subclass']))]),\n",
    "                    \n",
    "        \n",
    "        #CONNECTIONS\n",
    "                    'all_con_total': len(synapse_table[ (synapse_table['pre_pt_root_id'] == pre_soma_ID)]\n",
    "                                         ['post_pt_root_id'].unique()),\n",
    "                    \n",
    "                    'all_e_con#': len(synapse_table[(synapse_table['pre_pt_root_id'] == pre_soma_ID) &\n",
    "                                     (synapse_table['manual_eiaibs_class'] == 'excitatory')]\n",
    "                                      ['post_pt_root_id'].unique()),\n",
    "                    \n",
    "                    'all_i_con#': len(synapse_table[(synapse_table['pre_pt_root_id'] == pre_soma_ID) &\n",
    "                                     (synapse_table['manual_eiaibs_class'] == 'inhibitory')]\n",
    "                                      ['post_pt_root_id'].unique()),\n",
    "        \n",
    "                    'all_Undetermined_class_con#': len(synapse_table[(synapse_table['pre_pt_root_id'] == pre_soma_ID) &\n",
    "                                     ((synapse_table['manual_eiaibs_class'] == 'Unsure') |\n",
    "                                      pd.isnull(synapse_table['manual_eiaibs_class']))]['post_pt_root_id'].unique()),                      \n",
    "        \n",
    "                    'all_23P_con#': len(synapse_table[(synapse_table['pre_pt_root_id'] == pre_soma_ID) &\n",
    "                                     (synapse_table['manual_eiaibs_subclass'] == '23P')]['post_pt_root_id'].unique()),\n",
    "        \n",
    "                    'all_4P_con#': len(synapse_table[(synapse_table['pre_pt_root_id'] == pre_soma_ID) &\n",
    "                                     (synapse_table['manual_eiaibs_subclass'] == '4P')]['post_pt_root_id'].unique()),\n",
    "                    \n",
    "                    'all_5P-PT_con#': len(synapse_table[(synapse_table['pre_pt_root_id'] == pre_soma_ID) &\n",
    "                                     (synapse_table['manual_eiaibs_subclass'] == '5P-PT')]['post_pt_root_id'].unique()),\n",
    "                    \n",
    "                    'all_5P-NP_con#': len(synapse_table[(synapse_table['pre_pt_root_id'] == pre_soma_ID) &\n",
    "                                     (synapse_table['manual_eiaibs_subclass'] == '5P-NP')]['post_pt_root_id'].unique()), \n",
    " \n",
    "                    'all_5P-IT_con#': len(synapse_table[(synapse_table['pre_pt_root_id'] == pre_soma_ID) &\n",
    "                                     (synapse_table['manual_eiaibs_subclass'] == '5P-IT')]['post_pt_root_id'].unique()),\n",
    "                    \n",
    "                    'all_6P_con#': len(synapse_table[(synapse_table['pre_pt_root_id'] == pre_soma_ID) &\n",
    "                                     (synapse_table['manual_eiaibs_subclass'] == '6P')]['post_pt_root_id'].unique()),\n",
    "                                    \n",
    "                    'all_BC_con#': len(synapse_table[(synapse_table['pre_pt_root_id'] == pre_soma_ID) &\n",
    "                                     (synapse_table['manual_eiaibs_subclass'] == 'BC')]['post_pt_root_id'].unique()),\n",
    "                     \n",
    "                    'all_MC_con#': len(synapse_table[(synapse_table['pre_pt_root_id'] == pre_soma_ID) &\n",
    "                                     (synapse_table['manual_eiaibs_subclass'] == 'MC')]['post_pt_root_id'].unique()),\n",
    "       \n",
    "                    'all_BPC_con#': len(synapse_table[(synapse_table['pre_pt_root_id'] == pre_soma_ID) &\n",
    "                                     (synapse_table['manual_eiaibs_subclass'] == 'BPC')]['post_pt_root_id'].unique()),\n",
    "                    \n",
    "                    'all_NGC_con#': len(synapse_table[(synapse_table['pre_pt_root_id'] == pre_soma_ID) &\n",
    "                                     (synapse_table['manual_eiaibs_subclass'] == 'NGC')]['post_pt_root_id'].unique()),\n",
    "        \n",
    "                    'all_Undetermined_subclass_con#': len(synapse_table[(synapse_table['pre_pt_root_id'] == pre_soma_ID) &\n",
    "                                     ((synapse_table['manual_eiaibs_subclass'] == 'Unsure') |\n",
    "                                      pd.isnull(synapse_table['manual_eiaibs_subclass']))]['post_pt_root_id'].unique()),\n",
    "                        \n",
    "        \n",
    "    }\n",
    "    values.append(stat_values)\n",
    "    \n",
    "    \n",
    "    stat_percentage={\n",
    "\n",
    "                    'ID': pre_soma_ID,\n",
    "                    'nucleus_ID':  pre_nucleus_ID[0],\n",
    "                    \n",
    "                    'Soma_depth':  (client.materialize.query_table('nucleus_detection_v0', filter_equal_dict={'id':pre_nucleus_ID[0]})['pt_position'].apply(lambda x: x[1]).iloc[0]- average_surface_location)*0.004,\n",
    "                   \n",
    "                      \n",
    "                    'i_syn': stat_values['all_i_syn#'] / stat_values['all_syn_total'],\n",
    "                    'e_syn': stat_values['all_e_syn#'] / stat_values['all_syn_total'],\n",
    "                    'Undetermined_class_syn': stat_values['all_Undetermined_class_syn#'] / stat_values['all_syn_total'],\n",
    "        \n",
    "                    '23P_syn': stat_values['all_23P_syn#'] / (stat_values['all_syn_total'] - stat_values['all_Undetermined_subclass_syn#']),\n",
    "                    '4P_syn': stat_values['all_4P_syn#'] / (stat_values['all_syn_total'] - stat_values['all_Undetermined_subclass_syn#']),\n",
    "                    '5P-PT_syn': stat_values['all_5P-PT_syn#'] / (stat_values['all_syn_total'] - stat_values['all_Undetermined_subclass_syn#']),\n",
    "                    '5P-IT_syn': stat_values['all_5P-IT_syn#'] / (stat_values['all_syn_total'] - stat_values['all_Undetermined_subclass_syn#']),\n",
    "                    '5P-NP_syn': stat_values['all_5P-NP_syn#'] / (stat_values['all_syn_total'] - stat_values['all_Undetermined_subclass_syn#']),\n",
    "                    '6P_syn': stat_values['all_6P_syn#'] / (stat_values['all_syn_total'] - stat_values['all_Undetermined_subclass_syn#']),\n",
    "                    'BC_syn': stat_values['all_BC_syn#'] / (stat_values['all_syn_total'] - stat_values['all_Undetermined_subclass_syn#']),\n",
    "                    'MC_syn': stat_values['all_MC_syn#'] / (stat_values['all_syn_total'] - stat_values['all_Undetermined_subclass_syn#']),\n",
    "                    'BPC_syn': stat_values['all_BPC_syn#'] / (stat_values['all_syn_total'] - stat_values['all_Undetermined_subclass_syn#']),\n",
    "                    'NGC_syn': stat_values['all_NGC_syn#'] / (stat_values['all_syn_total'] - stat_values['all_Undetermined_subclass_syn#']),\n",
    "                    'Undetermined_subclass_syn': stat_values['all_Undetermined_subclass_syn#'] / stat_values['all_syn_total'],\n",
    "        \n",
    "        \n",
    "                    'i_con': stat_values['all_i_con#'] / stat_values['all_con_total'],\n",
    "                    'e_con': stat_values['all_e_con#'] / stat_values['all_con_total'],\n",
    "                    'Undetermined_class_con': stat_values['all_Undetermined_class_con#'] / stat_values['all_con_total'],\n",
    "                   \n",
    "        \n",
    "                    '23P_con': stat_values['all_23P_con#'] / stat_values['all_con_total'],\n",
    "                    '4P_con': stat_values['all_4P_con#'] / stat_values['all_con_total'],\n",
    "                    '5P-PT_con': stat_values['all_5P-PT_con#'] / stat_values['all_con_total'],\n",
    "                    '5P-IT_con': stat_values['all_5P-IT_con#'] / stat_values['all_con_total'],\n",
    "                    '5P-NP_con': stat_values['all_5P-NP_con#'] / stat_values['all_con_total'],\n",
    "                    '6P_con': stat_values['all_6P_con#'] / stat_values['all_con_total'],\n",
    "                    'BC_con': stat_values['all_BC_con#'] / stat_values['all_con_total'],\n",
    "                    'MC_con': stat_values['all_MC_con#'] / stat_values['all_con_total'],\n",
    "                    'BPC_con': stat_values['all_BPC_con#'] / stat_values['all_syn_total'],\n",
    "                    'NGC_con': stat_values['all_NGC_con#'] / stat_values['all_con_total'],\n",
    "                    'Undetermined_subclass_con': stat_values['all_Undetermined_subclass_con#'] / stat_values['all_con_total'],\n",
    "                   \n",
    "    }\n",
    "    percentage.append(stat_percentage) \n",
    "    \n",
    "\n",
    "synapse_table_values = pd.DataFrame(values)\n",
    "synapse_table_percentage = pd.DataFrame(percentage)\n",
    "\n",
    "#total_values = pd.DataFrame(synapse_table_values.sum(), columns=parts.columns, index=[\"Total\"])\n",
    "#stats_type.append(stat)  "
   ]
  },
  {
   "cell_type": "code",
   "execution_count": null,
   "id": "8ee45f69",
   "metadata": {},
   "outputs": [],
   "source": [
    "import pandas as pd\n",
    "import numpy as np\n",
    "import seaborn as sns\n",
    "import matplotlib.pyplot as plt\n",
    "\n",
    "sorted_synapse_table_percentage = synapse_table_percentage.sort_values(by='BC_syn')\n",
    "\n",
    "#individual cells\n",
    "heat_synapse_table = sorted_synapse_table_percentage[['23P_syn','4P_syn','5P-PT_syn','5P-IT_syn','5P-NP_syn','6P_syn','BC_syn','MC_syn','BPC_syn','NGC_syn']]\n",
    "heat_synapse_table_E = sorted_synapse_table_percentage[['23P_syn','4P_syn','5P-PT_syn','5P-IT_syn','5P-NP_syn','6P_syn']]\n",
    "heat_synapse_table_I = sorted_synapse_table_percentage[['BC_syn','MC_syn','BPC_syn','NGC_syn']]\n",
    "\n",
    "\n",
    "#total percantages\n",
    "short_synapse = synapse_table_values[['all_23P_syn#','all_4P_syn#','all_5P-PT_syn#','all_5P-IT_syn#','all_5P-NP_syn#',\n",
    "                                      'all_6P_syn#','all_BC_syn#','all_MC_syn#','all_BPC_syn#','all_NGC_syn#']]\n",
    "total_percentages = pd.DataFrame(short_synapse.sum()) / pd.DataFrame(short_synapse.sum()).sum()\n",
    "\n",
    "sns.set()\n",
    "\n",
    "ax = sns.heatmap(heat_synapse_table, cmap='RdYlBu_r', vmin=0, vmax=0.40)\n",
    "\n",
    "\n",
    "plt.savefig(\"heatmap_all_synapses.pdf\", format='pdf', dpi=1200)\n",
    "\n",
    "plt.show()"
   ]
  },
  {
   "cell_type": "markdown",
   "id": "a58c752e",
   "metadata": {},
   "source": [
    "# EXTENDED FIGURE 7"
   ]
  },
  {
   "cell_type": "code",
   "execution_count": null,
   "id": "fc48e28e",
   "metadata": {},
   "outputs": [],
   "source": [
    "pd.options.display.max_rows = None\n",
    "pd.options.display.max_columns = None\n",
    "\n",
    "#Load dataframe\n",
    "synapse_table = pd.read_feather(\"ET_Complete_synapse_table.feather\")"
   ]
  },
  {
   "cell_type": "code",
   "execution_count": null,
   "id": "15b57896",
   "metadata": {},
   "outputs": [],
   "source": [
    "import seaborn as sns\n",
    "sns.set(style=\"whitegrid\")\n",
    "#tips = sns.load_dataset(\"tips\")\n",
    "#ax = sns.swarmplot(x=tips[\"total_bill\"])\n",
    "\n",
    "f, ax = plt.subplots(figsize=(10,8))\n",
    "\n",
    "palette={'5P-PT':[0.12710496, 0.44018454, 0.70749712], '5P-IT':[0.57960784, 0.77019608, 0.87372549],\n",
    "         '5P-NP':[0.32124567, 0.61517878, 0.80083045],'6P':[0.55155709, 0.82614379, 0.7455594], \n",
    "         'MC':[0.99215686, 0.65647059, 0.3827451], 'BC':[0.77098039, 0.25411765, 0.00705882]}\n",
    "\n",
    "\n",
    "\n",
    "ax = sns.swarmplot(x=\"manual_eiaibs_subclass\", y=\"size\",\n",
    "                   data=synapse_table[synapse_table.manual_eiaibs_subclass.isin(['5P-PT', '5P-IT', '5P-NP', '6P','MC', 'BC'])],\n",
    "                  size=4, palette=palette)\n",
    "\n",
    "\n",
    "plt.savefig('swarm.eps')"
   ]
  },
  {
   "cell_type": "code",
   "execution_count": null,
   "id": "bb9d5c2a",
   "metadata": {},
   "outputs": [],
   "source": [
    "penguins = sns.load_dataset(\"penguins\")"
   ]
  },
  {
   "cell_type": "code",
   "execution_count": null,
   "id": "49c55378",
   "metadata": {},
   "outputs": [],
   "source": [
    "penguins"
   ]
  },
  {
   "cell_type": "code",
   "execution_count": null,
   "id": "4ba2d552",
   "metadata": {},
   "outputs": [],
   "source": [
    "a = synapse_table[synapse_table[\"manual_eiaibs_subclass\"]=='5P-IT']['size']\n"
   ]
  },
  {
   "cell_type": "code",
   "execution_count": null,
   "id": "09a0821f",
   "metadata": {},
   "outputs": [],
   "source": [
    "f , ax = plt.subplots(figsize=(7,10))\n",
    "sns.histplot(synapse_table[synapse_table[\"manual_eiaibs_subclass\"]=='BC'], x=\"size\",binwidth=1000, ax=ax)\n",
    "ax.set(xlim=(0, 40000))\n"
   ]
  },
  {
   "cell_type": "code",
   "execution_count": null,
   "id": "903882fb",
   "metadata": {},
   "outputs": [],
   "source": [
    "sns.displot(synapse_table, x=\"size\", hue=\"manual_eiaibs_subclass\",element=\"step\")"
   ]
  },
  {
   "cell_type": "code",
   "execution_count": null,
   "id": "e322138d",
   "metadata": {},
   "outputs": [],
   "source": [
    "sns.displot(synapse_table, x=\"size\", hue=\"manual_eiaibs_subclass\",element=\"step\", stat=\"density\", common_norm=False)"
   ]
  },
  {
   "cell_type": "markdown",
   "id": "b8e67382",
   "metadata": {},
   "source": [
    "# EXTENDED FIGURE 8"
   ]
  },
  {
   "cell_type": "code",
   "execution_count": null,
   "id": "15317263",
   "metadata": {},
   "outputs": [],
   "source": [
    "import os\n",
    "import requests\n",
    "import pandas as pd\n",
    "import numpy as np\n",
    "import cloudvolume\n",
    "from caveclient import CAVEclient\n",
    "import nglui\n",
    "from statistics import mean\n",
    "import matplotlib.pyplot as plt\n",
    "\n",
    "client = CAVEclient('minnie65_phase3_v1')\n",
    "client.info.get_datastack_info()"
   ]
  },
  {
   "cell_type": "code",
   "execution_count": null,
   "id": "a47ae6af",
   "metadata": {},
   "outputs": [],
   "source": [
    "post_soma_ID"
   ]
  },
  {
   "cell_type": "code",
   "execution_count": null,
   "id": "efeefda1",
   "metadata": {},
   "outputs": [],
   "source": [
    "synapse_table[(synapse_table['post_pt_root_id'] == post_soma_ID) &\n",
    "                                          (synapse_table['pre_pt_root_id'] == pre_soma_ID)]"
   ]
  },
  {
   "cell_type": "code",
   "execution_count": null,
   "id": "b276c26c",
   "metadata": {},
   "outputs": [],
   "source": [
    "#MAKE STATS DATAFRAME - All synapses and connections\n",
    "\n",
    "pd.options.display.max_rows = None\n",
    "pd.options.display.max_columns = None\n",
    "\n",
    "#Load dataframe\n",
    "synapse_table = pd.read_feather(\"ET_extended_synapse_table.feather\")\n",
    "synapse_table = synapse_table[synapse_table['num_soma'] == 1]\n",
    "\n",
    "\n",
    "#get post neurons root IDs\n",
    "post_soma_IDs = synapse_table.post_pt_root_id.unique()\n",
    "pre_soma_IDs = synapse_table.pre_pt_root_id.unique()\n",
    "\n",
    "print('number of postsynaptic neurons: ',len(post_soma_IDs))\n",
    "print('number of presynaptic neurons: ',len(pre_soma_IDs))\n",
    "\n",
    "\n",
    "#Create Dataframe\n",
    "\n",
    "np.seterr(divide='ignore', invalid='ignore')\n",
    "\n",
    "values = []\n",
    "\n",
    "for ii,pre_soma_ID in enumerate(pre_soma_IDs): \n",
    "    \n",
    "    #print(ii)\n",
    "    \n",
    "    for iii,post_soma_ID in enumerate(post_soma_IDs):\n",
    "        \n",
    "        #print(ii)\n",
    "        \n",
    "        post_nucleus_ID_df = synapse_table[(synapse_table['post_pt_root_id'] == post_soma_ID) &\n",
    "                                          (synapse_table['pre_pt_root_id'] == pre_soma_ID)]\n",
    "        \n",
    "        if len(post_nucleus_ID_df) > 0:\n",
    "\n",
    "\n",
    "            stat_values={\n",
    "\n",
    "\n",
    "                                'pre_root_ID': pre_soma_ID,\n",
    "                                'pre_nucleus_ID': post_nucleus_ID_df.pre_nucleus_id.astype('int').unique().item(),\n",
    "\n",
    "                                'post_root_ID': post_soma_ID,\n",
    "                                'post_nucleus_ID': post_nucleus_ID_df.post_nucleus_id.astype('int').unique().item(),\n",
    "\n",
    "                #SYNAPSES\n",
    "\n",
    "                                'syn_total': len(post_nucleus_ID_df),\n",
    "                                'class': post_nucleus_ID_df.consensus_class.unique().item(),\n",
    "                                'subclass': post_nucleus_ID_df.consensus_subclass.unique().item(),\n",
    "\n",
    "\n",
    "            }\n",
    "            values.append(stat_values)\n",
    "\n",
    "synapse_table_values = pd.DataFrame(values)"
   ]
  },
  {
   "cell_type": "code",
   "execution_count": null,
   "id": "27a2a7e3",
   "metadata": {},
   "outputs": [],
   "source": []
  },
  {
   "cell_type": "code",
   "execution_count": null,
   "id": "7102b56b",
   "metadata": {},
   "outputs": [],
   "source": [
    "synapse_table_values"
   ]
  },
  {
   "cell_type": "code",
   "execution_count": null,
   "id": "aa337f77",
   "metadata": {},
   "outputs": [],
   "source": [
    "mean(synapse_table_values[synapse_table_values['subclass']=='5P-NP'].syn_total)"
   ]
  },
  {
   "cell_type": "code",
   "execution_count": null,
   "id": "2a7cb8a2",
   "metadata": {},
   "outputs": [],
   "source": [
    "mean(synapse_table_values[synapse_table_values['class']=='excitatory'].syn_total)"
   ]
  },
  {
   "cell_type": "code",
   "execution_count": null,
   "id": "fdd735a4",
   "metadata": {},
   "outputs": [],
   "source": [
    "synapse_table_values.subclass.unique()"
   ]
  },
  {
   "cell_type": "code",
   "execution_count": null,
   "id": "c6a569c7",
   "metadata": {},
   "outputs": [],
   "source": [
    "sum(synapse_table_values[synapse_table_values['subclass']=='5P-IT'].syn_total)"
   ]
  },
  {
   "cell_type": "code",
   "execution_count": null,
   "id": "7cff72f3",
   "metadata": {},
   "outputs": [],
   "source": [
    "import seaborn as sns\n",
    "sns.set(style=\"whitegrid\")\n",
    "#tips = sns.load_dataset(\"tips\")\n",
    "#ax = sns.swarmplot(x=tips[\"total_bill\"])\n",
    "\n",
    "#f, ax = plt.subplots(figsize=(10,8))\n",
    "\n",
    "\n",
    "ax = sns.swarmplot(x=\"subclass\", y=\"syn_total\",\n",
    "                   data=synapse_table_values,\n",
    "                  size=4)\n",
    "\n",
    "\n",
    "plt.savefig('swarm.eps')"
   ]
  },
  {
   "cell_type": "code",
   "execution_count": null,
   "id": "14c5d7d6",
   "metadata": {},
   "outputs": [],
   "source": [
    "synapse_table_values.syn_total.unique()"
   ]
  },
  {
   "cell_type": "code",
   "execution_count": null,
   "id": "a6ae53c0",
   "metadata": {},
   "outputs": [],
   "source": [
    "f , ax = plt.subplots(figsize=(7,10))\n",
    "sns.histplot(synapse_table_values, x=\"syn_total\", hue=\"subclass\",element=\"step\",binwidth=1,ax=ax)\n",
    "ax.set(xlim=(0, 10))"
   ]
  },
  {
   "cell_type": "code",
   "execution_count": null,
   "id": "abd58fab",
   "metadata": {},
   "outputs": [],
   "source": [
    "f , ax = plt.subplots(figsize=(7,10))\n",
    "sns.histplot(synapse_table_values[synapse_table_values['subclass']=='5P-NP'], x=\"syn_total\",binwidth=1, ax=ax)\n",
    "ax.set(xlim=(0, 10))"
   ]
  },
  {
   "cell_type": "code",
   "execution_count": null,
   "id": "f1a4e1c3",
   "metadata": {},
   "outputs": [],
   "source": [
    "synapse_table_values[synapse_table_values['syn_total']==26]"
   ]
  },
  {
   "cell_type": "code",
   "execution_count": null,
   "id": "5dadbf1c",
   "metadata": {},
   "outputs": [],
   "source": [
    "synapse_table[synapse_table['post_pt_root_id']==864691135952264739]"
   ]
  },
  {
   "cell_type": "code",
   "execution_count": null,
   "id": "e8bfbe57",
   "metadata": {},
   "outputs": [],
   "source": [
    "post_nucleus_ID_df"
   ]
  },
  {
   "cell_type": "code",
   "execution_count": null,
   "id": "0ab5605e",
   "metadata": {},
   "outputs": [],
   "source": []
  }
 ],
 "metadata": {
  "kernelspec": {
   "display_name": "Python 3 (ipykernel)",
   "language": "python",
   "name": "python3"
  },
  "language_info": {
   "codemirror_mode": {
    "name": "ipython",
    "version": 3
   },
   "file_extension": ".py",
   "mimetype": "text/x-python",
   "name": "python",
   "nbconvert_exporter": "python",
   "pygments_lexer": "ipython3",
   "version": "3.10.4"
  }
 },
 "nbformat": 4,
 "nbformat_minor": 5
}
