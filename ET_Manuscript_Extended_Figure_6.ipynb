{
 "cells": [
  {
   "cell_type": "markdown",
   "id": "0edf628d",
   "metadata": {},
   "source": [
    "###### EXTENDED FIGURE 6"
   ]
  },
  {
   "cell_type": "code",
   "execution_count": null,
   "id": "1b662544",
   "metadata": {},
   "outputs": [],
   "source": [
    "#plot skeletons of neurons\n",
    "\n",
    "%load_ext autoreload\n",
    "%autoreload 2\n",
    "import skeleton_plot as skelplot\n",
    "from skeleton_plot.skel_io import *\n",
    "import matplotlib.pyplot as plt\n",
    "import numpy as np\n",
    "import os\n",
    "import pandas as pd\n",
    "%matplotlib inline"
   ]
  },
  {
   "cell_type": "code",
   "execution_count": null,
   "id": "9da9cade",
   "metadata": {},
   "outputs": [],
   "source": [
    "skel_path = 'https://storage.googleapis.com/allen-minnie-phase3/minniephase3-emily-pcg-skeletons/minnie_all/BIL_neurons/file_groups/'\n"
   ]
  },
  {
   "cell_type": "code",
   "execution_count": null,
   "id": "a7ff0784",
   "metadata": {},
   "outputs": [],
   "source": [
    "ET_extended =  {'rid': [864691135730543289, 864691136617461979, 864691135182092034, 864691135776144045, \n",
    "                        864691135494401680, 864691135472306482, 864691135660737776, 864691135476398504,\n",
    "                        864691135509054217, 864691135991773633, 864691135850843335, 864691135502157405],\n",
    "        'sid': [ 266839, 589294, 303216, 232635, 494888, 495010, 526436, 302951, 267033, 267029, 527784,\n",
    "                337966]}\n",
    "\n",
    "ET_extended_df = pd.DataFrame(ET_extended)\n",
    "\n",
    "for _, row in ET_extended_df.iterrows():\n",
    "    #print(row.sid)\n",
    "\n",
    "    # plot the radius from the swc \n",
    "    rid = row.rid\n",
    "    sid = row.sid\n",
    "    sk = read_skeleton(skel_path+f'{rid}_{sid}', f'{rid}_{sid}.swc')\n",
    "\n",
    "    f , ax = plt.subplots(figsize=(7,10))\n",
    "    \n",
    "    skelplot.plot_tools.plot_skel(sk,  ax=ax, pull_radius = True, pull_compartment_colors = True,\n",
    "                                  invert_y=True, plot_soma = True, \n",
    "                                 line_width = 3, color = 'darkslategray') \n",
    "    \n",
    "    ax.set(xlim=(300, 1700), ylim=(1100, 300))\n",
    "    \n",
    "    fig_name = 'skeleton' + str(row.sid) + '.eps'\n",
    "    \n",
    "    #plt.axis('off')\n",
    "    \n",
    "    f.savefig(fig_name, bbox_inches='tight')\n",
    "\n"
   ]
  },
  {
   "cell_type": "code",
   "execution_count": null,
   "id": "95251440",
   "metadata": {},
   "outputs": [],
   "source": []
  }
 ],
 "metadata": {
  "kernelspec": {
   "display_name": "Python 3 (ipykernel)",
   "language": "python",
   "name": "python3"
  },
  "language_info": {
   "codemirror_mode": {
    "name": "ipython",
    "version": 3
   },
   "file_extension": ".py",
   "mimetype": "text/x-python",
   "name": "python",
   "nbconvert_exporter": "python",
   "pygments_lexer": "ipython3",
   "version": "3.10.2"
  }
 },
 "nbformat": 4,
 "nbformat_minor": 5
}
